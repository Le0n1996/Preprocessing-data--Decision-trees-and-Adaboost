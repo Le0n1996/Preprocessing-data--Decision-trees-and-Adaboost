{
 "cells": [
  {
   "cell_type": "markdown",
   "metadata": {},
   "source": [
    "# Домашняя работа 2"
   ]
  },
  {
   "cell_type": "markdown",
   "metadata": {},
   "source": [
    "**Срок сдачи:** 23 октября 2016, 23:59 <br\\>\n",
    "\n",
    "При отправлении ДЗ на почту указывайте фамилию в названии файла, а тему письма оформляйте в следующем формате: <br\\>\n",
    "** [ИАД] *{Фамилия}* *{Имя}* ДЗ*{Номер}* **<br\\>\n",
    "\n",
    "\n",
    "Сопровождайте ваш код изображеними, комментариями и выводами. <br\\>\n",
    "Иммейте ввиду, что на некоторые задачи нет единственного верного и полного ответа. Чем больше информации вы сможете извлечь, аргументированных выводов сформулировать, тем лучше.\n",
    "\n",
    "Используйте данный Ipython Notebook при оформлении домашнего задания."
   ]
  },
  {
   "cell_type": "markdown",
   "metadata": {},
   "source": [
    "# Table of Contents\n",
    " <p><div class=\"lev1 toc-item\"><a href=\"#Домашняя-работа-2\" data-toc-modified-id=\"Домашняя-работа-2-1\"><span class=\"toc-item-num\">1&nbsp;&nbsp;</span>Домашняя работа 2</a></div><div class=\"lev2 toc-item\"><a href=\"#Работа-с-данными-(4-балла)\" data-toc-modified-id=\"Работа-с-данными-(4-балла)-1.1\"><span class=\"toc-item-num\">1.1&nbsp;&nbsp;</span>Работа с данными (4 балла)</a></div><div class=\"lev2 toc-item\"><a href=\"#Классификация-(6-баллов)\" data-toc-modified-id=\"Классификация-(6-баллов)-1.2\"><span class=\"toc-item-num\">1.2&nbsp;&nbsp;</span>Классификация (6 баллов)</a></div><div class=\"lev3 toc-item\"><a href=\"#Предписания\" data-toc-modified-id=\"Предписания-1.2.1\"><span class=\"toc-item-num\">1.2.1&nbsp;&nbsp;</span>Предписания</a></div><div class=\"lev3 toc-item\"><a href=\"#Задание\" data-toc-modified-id=\"Задание-1.2.2\"><span class=\"toc-item-num\">1.2.2&nbsp;&nbsp;</span>Задание</a></div>"
   ]
  },
  {
   "cell_type": "code",
   "execution_count": 1,
   "metadata": {},
   "outputs": [],
   "source": [
    "import numpy as np\n",
    "import pandas as pd\n",
    "import matplotlib.pyplot as plt\n",
    "\n",
    "%matplotlib inline\n",
    "\n",
    "plt.style.use('ggplot')\n",
    "plt.rcParams['figure.figsize'] = (15, 6)"
   ]
  },
  {
   "cell_type": "markdown",
   "metadata": {},
   "source": [
    "Прочтите статью [\"USING\tDATA\tMINING\tTO\tPREDICT\tSECONDARY SCHOOL\tSTUDENT\tALCOHOL\tCONSUMPTION\"](https://www.dropbox.com/s/ww4h9ivnkbyy9xw/STUDENT%20ALCOHOL%20CONSUMPTION%20%281%29.pdf?dl=0).<br\\>\n",
    "Загрузите [датасет](https://archive.ics.uci.edu/ml/datasets/STUDENT+ALCOHOL+CONSUMPTION#), используемый в статье и выполните следующие задания:"
   ]
  },
  {
   "cell_type": "markdown",
   "metadata": {},
   "source": [
    "## Работа с данными (4 балла)\n",
    "1. Приведите описание признаков датасета на русском языке с указанием типа данных (2 балла)\n",
    "2. Описание предобработки данных (2 балла)\n",
    "    - Проверьте наличие пропусков. В случае наличия пропусков заполните их медианными значениями (1 балл)\n",
    "    - Преобразуйте все номинальные признаки в несколько признаков с бинарным значением (1 балл)"
   ]
  },
  {
   "cell_type": "code",
   "execution_count": 2,
   "metadata": {},
   "outputs": [],
   "source": [
    "import zipfile"
   ]
  },
  {
   "cell_type": "code",
   "execution_count": 4,
   "metadata": {},
   "outputs": [
    {
     "data": {
      "text/plain": [
       "(395, 33)"
      ]
     },
     "execution_count": 4,
     "metadata": {},
     "output_type": "execute_result"
    }
   ],
   "source": [
    "student_mat_data = pd.read_csv(zipfile.ZipFile('student.zip').open('student-mat.csv'), delimiter=';')\n",
    "student_mat_data.shape"
   ]
  },
  {
   "cell_type": "code",
   "execution_count": 5,
   "metadata": {},
   "outputs": [
    {
     "data": {
      "text/plain": [
       "(649, 33)"
      ]
     },
     "execution_count": 5,
     "metadata": {},
     "output_type": "execute_result"
    }
   ],
   "source": [
    "student_por_data = pd.read_csv(zipfile.ZipFile('student.zip').open('student-por.csv'), delimiter=';')\n",
    "student_por_data.shape"
   ]
  },
  {
   "cell_type": "code",
   "execution_count": 6,
   "metadata": {},
   "outputs": [
    {
     "data": {
      "text/plain": [
       "(1044, 33)"
      ]
     },
     "execution_count": 6,
     "metadata": {},
     "output_type": "execute_result"
    }
   ],
   "source": [
    "data = pd.concat([student_mat_data, student_por_data], ignore_index=True)\n",
    "data.shape"
   ]
  },
  {
   "cell_type": "code",
   "execution_count": 7,
   "metadata": {},
   "outputs": [
    {
     "data": {
      "text/html": [
       "<div>\n",
       "<style scoped>\n",
       "    .dataframe tbody tr th:only-of-type {\n",
       "        vertical-align: middle;\n",
       "    }\n",
       "\n",
       "    .dataframe tbody tr th {\n",
       "        vertical-align: top;\n",
       "    }\n",
       "\n",
       "    .dataframe thead th {\n",
       "        text-align: right;\n",
       "    }\n",
       "</style>\n",
       "<table border=\"1\" class=\"dataframe\">\n",
       "  <thead>\n",
       "    <tr style=\"text-align: right;\">\n",
       "      <th></th>\n",
       "      <th>school</th>\n",
       "      <th>sex</th>\n",
       "      <th>age</th>\n",
       "      <th>address</th>\n",
       "      <th>famsize</th>\n",
       "      <th>Pstatus</th>\n",
       "      <th>Medu</th>\n",
       "      <th>Fedu</th>\n",
       "      <th>Mjob</th>\n",
       "      <th>Fjob</th>\n",
       "      <th>...</th>\n",
       "      <th>famrel</th>\n",
       "      <th>freetime</th>\n",
       "      <th>goout</th>\n",
       "      <th>Dalc</th>\n",
       "      <th>Walc</th>\n",
       "      <th>health</th>\n",
       "      <th>absences</th>\n",
       "      <th>G1</th>\n",
       "      <th>G2</th>\n",
       "      <th>G3</th>\n",
       "    </tr>\n",
       "  </thead>\n",
       "  <tbody>\n",
       "    <tr>\n",
       "      <th>1039</th>\n",
       "      <td>MS</td>\n",
       "      <td>F</td>\n",
       "      <td>19</td>\n",
       "      <td>R</td>\n",
       "      <td>GT3</td>\n",
       "      <td>T</td>\n",
       "      <td>2</td>\n",
       "      <td>3</td>\n",
       "      <td>services</td>\n",
       "      <td>other</td>\n",
       "      <td>...</td>\n",
       "      <td>5</td>\n",
       "      <td>4</td>\n",
       "      <td>2</td>\n",
       "      <td>1</td>\n",
       "      <td>2</td>\n",
       "      <td>5</td>\n",
       "      <td>4</td>\n",
       "      <td>10</td>\n",
       "      <td>11</td>\n",
       "      <td>10</td>\n",
       "    </tr>\n",
       "    <tr>\n",
       "      <th>1040</th>\n",
       "      <td>MS</td>\n",
       "      <td>F</td>\n",
       "      <td>18</td>\n",
       "      <td>U</td>\n",
       "      <td>LE3</td>\n",
       "      <td>T</td>\n",
       "      <td>3</td>\n",
       "      <td>1</td>\n",
       "      <td>teacher</td>\n",
       "      <td>services</td>\n",
       "      <td>...</td>\n",
       "      <td>4</td>\n",
       "      <td>3</td>\n",
       "      <td>4</td>\n",
       "      <td>1</td>\n",
       "      <td>1</td>\n",
       "      <td>1</td>\n",
       "      <td>4</td>\n",
       "      <td>15</td>\n",
       "      <td>15</td>\n",
       "      <td>16</td>\n",
       "    </tr>\n",
       "    <tr>\n",
       "      <th>1041</th>\n",
       "      <td>MS</td>\n",
       "      <td>F</td>\n",
       "      <td>18</td>\n",
       "      <td>U</td>\n",
       "      <td>GT3</td>\n",
       "      <td>T</td>\n",
       "      <td>1</td>\n",
       "      <td>1</td>\n",
       "      <td>other</td>\n",
       "      <td>other</td>\n",
       "      <td>...</td>\n",
       "      <td>1</td>\n",
       "      <td>1</td>\n",
       "      <td>1</td>\n",
       "      <td>1</td>\n",
       "      <td>1</td>\n",
       "      <td>5</td>\n",
       "      <td>6</td>\n",
       "      <td>11</td>\n",
       "      <td>12</td>\n",
       "      <td>9</td>\n",
       "    </tr>\n",
       "    <tr>\n",
       "      <th>1042</th>\n",
       "      <td>MS</td>\n",
       "      <td>M</td>\n",
       "      <td>17</td>\n",
       "      <td>U</td>\n",
       "      <td>LE3</td>\n",
       "      <td>T</td>\n",
       "      <td>3</td>\n",
       "      <td>1</td>\n",
       "      <td>services</td>\n",
       "      <td>services</td>\n",
       "      <td>...</td>\n",
       "      <td>2</td>\n",
       "      <td>4</td>\n",
       "      <td>5</td>\n",
       "      <td>3</td>\n",
       "      <td>4</td>\n",
       "      <td>2</td>\n",
       "      <td>6</td>\n",
       "      <td>10</td>\n",
       "      <td>10</td>\n",
       "      <td>10</td>\n",
       "    </tr>\n",
       "    <tr>\n",
       "      <th>1043</th>\n",
       "      <td>MS</td>\n",
       "      <td>M</td>\n",
       "      <td>18</td>\n",
       "      <td>R</td>\n",
       "      <td>LE3</td>\n",
       "      <td>T</td>\n",
       "      <td>3</td>\n",
       "      <td>2</td>\n",
       "      <td>services</td>\n",
       "      <td>other</td>\n",
       "      <td>...</td>\n",
       "      <td>4</td>\n",
       "      <td>4</td>\n",
       "      <td>1</td>\n",
       "      <td>3</td>\n",
       "      <td>4</td>\n",
       "      <td>5</td>\n",
       "      <td>4</td>\n",
       "      <td>10</td>\n",
       "      <td>11</td>\n",
       "      <td>11</td>\n",
       "    </tr>\n",
       "  </tbody>\n",
       "</table>\n",
       "<p>5 rows × 33 columns</p>\n",
       "</div>"
      ],
      "text/plain": [
       "     school sex  age address famsize Pstatus  Medu  Fedu      Mjob      Fjob  \\\n",
       "1039     MS   F   19       R     GT3       T     2     3  services     other   \n",
       "1040     MS   F   18       U     LE3       T     3     1   teacher  services   \n",
       "1041     MS   F   18       U     GT3       T     1     1     other     other   \n",
       "1042     MS   M   17       U     LE3       T     3     1  services  services   \n",
       "1043     MS   M   18       R     LE3       T     3     2  services     other   \n",
       "\n",
       "      ... famrel freetime  goout  Dalc  Walc health absences  G1  G2  G3  \n",
       "1039  ...      5        4      2     1     2      5        4  10  11  10  \n",
       "1040  ...      4        3      4     1     1      1        4  15  15  16  \n",
       "1041  ...      1        1      1     1     1      5        6  11  12   9  \n",
       "1042  ...      2        4      5     3     4      2        6  10  10  10  \n",
       "1043  ...      4        4      1     3     4      5        4  10  11  11  \n",
       "\n",
       "[5 rows x 33 columns]"
      ]
     },
     "execution_count": 7,
     "metadata": {},
     "output_type": "execute_result"
    }
   ],
   "source": [
    "data.tail()"
   ]
  },
  {
   "cell_type": "code",
   "execution_count": 8,
   "metadata": {},
   "outputs": [
    {
     "data": {
      "text/plain": [
       "Index(['school', 'sex', 'age', 'address', 'famsize', 'Pstatus', 'Medu', 'Fedu',\n",
       "       'Mjob', 'Fjob', 'reason', 'guardian', 'traveltime', 'studytime',\n",
       "       'failures', 'schoolsup', 'famsup', 'paid', 'activities', 'nursery',\n",
       "       'higher', 'internet', 'romantic', 'famrel', 'freetime', 'goout', 'Dalc',\n",
       "       'Walc', 'health', 'absences', 'G1', 'G2', 'G3'],\n",
       "      dtype='object')"
      ]
     },
     "execution_count": 8,
     "metadata": {},
     "output_type": "execute_result"
    }
   ],
   "source": [
    "data.columns"
   ]
  },
  {
   "cell_type": "markdown",
   "metadata": {},
   "source": [
    "*Уберем некоторые признаки в соответствии с вышеприведенной статьей:*"
   ]
  },
  {
   "cell_type": "code",
   "execution_count": 9,
   "metadata": {
    "scrolled": true
   },
   "outputs": [
    {
     "data": {
      "text/plain": [
       "Index(['school', 'sex', 'age', 'address', 'Pstatus', 'Medu', 'Mjob',\n",
       "       'traveltime', 'studytime', 'failures', 'schoolsup', 'famsup', 'paid',\n",
       "       'activities', 'nursery', 'higher', 'internet', 'romantic', 'freetime',\n",
       "       'goout', 'Dalc', 'Walc', 'health', 'absences', 'G1', 'G2', 'G3'],\n",
       "      dtype='object')"
      ]
     },
     "execution_count": 9,
     "metadata": {},
     "output_type": "execute_result"
    }
   ],
   "source": [
    "data = data.drop(['famsize', 'Fedu', 'Fjob', 'reason', 'guardian', 'famrel'], axis=1)\n",
    "data.columns"
   ]
  },
  {
   "cell_type": "markdown",
   "metadata": {},
   "source": [
    "*Из двух столбцов Dalc и Walc сделаем один alc по формуле из той же статьи:*\n",
    "\n",
    "$$\n",
    "alc = \\frac{Walc \\times 2 + Dalc \\times 5}{7}\n",
    "$$"
   ]
  },
  {
   "cell_type": "code",
   "execution_count": 10,
   "metadata": {},
   "outputs": [
    {
     "data": {
      "text/plain": [
       "1039    1\n",
       "1040    1\n",
       "1041    1\n",
       "1042    3\n",
       "1043    3\n",
       "Name: Dalc, dtype: int64"
      ]
     },
     "execution_count": 10,
     "metadata": {},
     "output_type": "execute_result"
    }
   ],
   "source": [
    "data.Dalc[-5:]"
   ]
  },
  {
   "cell_type": "code",
   "execution_count": 11,
   "metadata": {},
   "outputs": [
    {
     "data": {
      "text/plain": [
       "1039    2\n",
       "1040    1\n",
       "1041    1\n",
       "1042    4\n",
       "1043    4\n",
       "Name: Walc, dtype: int64"
      ]
     },
     "execution_count": 11,
     "metadata": {},
     "output_type": "execute_result"
    }
   ],
   "source": [
    "data.Walc[-5:]"
   ]
  },
  {
   "cell_type": "code",
   "execution_count": 12,
   "metadata": {},
   "outputs": [
    {
     "data": {
      "text/plain": [
       "1039    1.285714\n",
       "1040    1.000000\n",
       "1041    1.000000\n",
       "1042    3.285714\n",
       "1043    3.285714\n",
       "dtype: float64"
      ]
     },
     "execution_count": 12,
     "metadata": {},
     "output_type": "execute_result"
    }
   ],
   "source": [
    "alc = ((data.Walc * 2 + data.Dalc * 5) / 7)\n",
    "alc[-5:]"
   ]
  },
  {
   "cell_type": "markdown",
   "metadata": {},
   "source": [
    "*Мы будем решать задачу бинарной классификации, поэтому, опять воспользовавшись статьей, преобразуем столбец alc в новый столбец Alc, причем значение 0 в столбце Alc будет соответствовать значению меньше 3 в столбце alc, 1 - не меньше:*"
   ]
  },
  {
   "cell_type": "code",
   "execution_count": 13,
   "metadata": {},
   "outputs": [
    {
     "data": {
      "text/html": [
       "<div>\n",
       "<style scoped>\n",
       "    .dataframe tbody tr th:only-of-type {\n",
       "        vertical-align: middle;\n",
       "    }\n",
       "\n",
       "    .dataframe tbody tr th {\n",
       "        vertical-align: top;\n",
       "    }\n",
       "\n",
       "    .dataframe thead th {\n",
       "        text-align: right;\n",
       "    }\n",
       "</style>\n",
       "<table border=\"1\" class=\"dataframe\">\n",
       "  <thead>\n",
       "    <tr style=\"text-align: right;\">\n",
       "      <th></th>\n",
       "      <th>Alc</th>\n",
       "    </tr>\n",
       "  </thead>\n",
       "  <tbody>\n",
       "    <tr>\n",
       "      <th>1039</th>\n",
       "      <td>0</td>\n",
       "    </tr>\n",
       "    <tr>\n",
       "      <th>1040</th>\n",
       "      <td>0</td>\n",
       "    </tr>\n",
       "    <tr>\n",
       "      <th>1041</th>\n",
       "      <td>0</td>\n",
       "    </tr>\n",
       "    <tr>\n",
       "      <th>1042</th>\n",
       "      <td>1</td>\n",
       "    </tr>\n",
       "    <tr>\n",
       "      <th>1043</th>\n",
       "      <td>1</td>\n",
       "    </tr>\n",
       "  </tbody>\n",
       "</table>\n",
       "</div>"
      ],
      "text/plain": [
       "      Alc\n",
       "1039    0\n",
       "1040    0\n",
       "1041    0\n",
       "1042    1\n",
       "1043    1"
      ]
     },
     "execution_count": 13,
     "metadata": {},
     "output_type": "execute_result"
    }
   ],
   "source": [
    "Alc = pd.DataFrame({'Alc': (alc >= 3).astype(int)})\n",
    "Alc[-5:]"
   ]
  },
  {
   "cell_type": "markdown",
   "metadata": {},
   "source": [
    "*Наконец можно убрать столбцы Walc и Dalc из исходной таблицы и добавить новый столбец Alc:*"
   ]
  },
  {
   "cell_type": "code",
   "execution_count": 14,
   "metadata": {},
   "outputs": [
    {
     "data": {
      "text/plain": [
       "Index(['school', 'sex', 'age', 'address', 'Pstatus', 'Medu', 'Mjob',\n",
       "       'traveltime', 'studytime', 'failures', 'schoolsup', 'famsup', 'paid',\n",
       "       'activities', 'nursery', 'higher', 'internet', 'romantic', 'freetime',\n",
       "       'goout', 'health', 'absences', 'G1', 'G2', 'G3', 'Alc'],\n",
       "      dtype='object')"
      ]
     },
     "execution_count": 14,
     "metadata": {},
     "output_type": "execute_result"
    }
   ],
   "source": [
    "data = data.join(Alc)\n",
    "data = data.drop(['Walc', 'Dalc'], axis=1)\n",
    "data.columns"
   ]
  },
  {
   "cell_type": "markdown",
   "metadata": {},
   "source": [
    "*В соответствии с таблицей 1 на странице 3 статьи можно привести следующее описание признаков:*\n",
    "\n",
    "- sex: пол студента (бинарный: женский или мужской)\n",
    "- age: возраст студента (числовой: от 15 до 22)\n",
    "- school: школа студента (бинарный: Gabriel Pereira или Mousinho da Silveira)\n",
    "- address: тип домашнего адреса студента (бинарный: городской или сельский)\n",
    "- Pstatus: тип отношений родителей (бинарный: живут вместе или раздельно)\n",
    "- Medu: образование матери (числовой: 0 - никакого,  1 - начальное образование (4 класса), 2 – от 5 до 9 классов, 3 – среднее специальное или 4 – высшее)\n",
    "- Mjob: работа матери (номинальный: учитель, связанная со здоровьем, городская служба (например, в администрации или в полиции), дома или другое)\n",
    "- traveltime: время от дома до школы (числовой: 1 - меньше 15 минут, 2 - от 15 до 30 минут, 3 - от 30 минут до 1 часа или 4 - больше 1 часа)\n",
    "- studytime: количество часов обучения в неделю (числовой: 1 - меньше 2 часов, 2 - от 2 до 5 часов, 3 - от 5 до 10 часов или 4 - больше 10 часов)\n",
    "- failures: количество ранее не сданных предметов (числовой: 1 - один предмет, 2 - два предмета или 4 - в ином случае)\n",
    "- schoolsup: дополнительные занятия (бинарный: да или нет)\n",
    "- famsup: помощь семьи прри выполнении учебных заданий (бинарный: да или нет)\n",
    "- activities: внеучебная активность (бинарный: да или нет)\n",
    "- paidclass: дополнительные платные занятия (бинарный: да или нет)\n",
    "- nursery: посещение детского сада ранее (бинарный: да или нет)\n",
    "- higher: желание получить высшее образование (бинарный: да или нет)\n",
    "- romantic: наличие романтических отношений (бинарный: да или нет)\n",
    "- freetime: свободное время после школы (числовой: от 1 - очень мало - до 5 - очень много)\n",
    "- goout: время, проведенное на гуляниях с друзьями (числовой: от 1 - очень мало - до 5 - очень много)\n",
    "- health: текущее состояние здоровья (числовой: от 1 - очень плохое - до 5 - очень хорошее)\n",
    "- absences: количество школьных пропусков (числовой: от 0 до 93)\n",
    "- G1: оценка за первый семестр (числовой: от 0 до 20)\n",
    "- G2: оценка за второй семестр (числовой: от 0 до 20)\n",
    "- G3: итоговая оценка (числовой: от 0 до 20)\n",
    "- Alc: наличие алкоголизма (бинарный: да или нет)"
   ]
  },
  {
   "cell_type": "markdown",
   "metadata": {},
   "source": [
    "*Проверим наличие пропусков:*"
   ]
  },
  {
   "cell_type": "code",
   "execution_count": 15,
   "metadata": {},
   "outputs": [
    {
     "data": {
      "text/plain": [
       "False"
      ]
     },
     "execution_count": 15,
     "metadata": {},
     "output_type": "execute_result"
    }
   ],
   "source": [
    "data.isnull().any().any()"
   ]
  },
  {
   "cell_type": "markdown",
   "metadata": {},
   "source": [
    "*Как видно, пропусков в данных нет. Ну и хорошо.*"
   ]
  },
  {
   "cell_type": "markdown",
   "metadata": {},
   "source": [
    "*Из описания признаков видно, что у нас всего один номинальный признак: Mjob. Посмотрим, какие значения он принимает, и в соответствии с этим разобьем его на бинарные признаки:*"
   ]
  },
  {
   "cell_type": "code",
   "execution_count": 16,
   "metadata": {},
   "outputs": [
    {
     "data": {
      "text/plain": [
       "array(['at_home', 'health', 'other', 'services', 'teacher'], dtype=object)"
      ]
     },
     "execution_count": 16,
     "metadata": {},
     "output_type": "execute_result"
    }
   ],
   "source": [
    "data.Mjob.unique()"
   ]
  },
  {
   "cell_type": "code",
   "execution_count": 17,
   "metadata": {},
   "outputs": [
    {
     "data": {
      "text/plain": [
       "Index(['school', 'sex', 'age', 'address', 'Pstatus', 'Medu', 'Mjob',\n",
       "       'traveltime', 'studytime', 'failures', 'schoolsup', 'famsup', 'paid',\n",
       "       'activities', 'nursery', 'higher', 'internet', 'romantic', 'freetime',\n",
       "       'goout', 'health_stud', 'absences', 'G1', 'G2', 'G3', 'Alc'],\n",
       "      dtype='object')"
      ]
     },
     "execution_count": 17,
     "metadata": {},
     "output_type": "execute_result"
    }
   ],
   "source": [
    "# Переименуем признак health, отвечающий за текущее состояние здоровья, дабы избежать путаницы\n",
    "data = data.rename(columns={'health':'health_stud'})\n",
    "data.columns"
   ]
  },
  {
   "cell_type": "code",
   "execution_count": 18,
   "metadata": {},
   "outputs": [
    {
     "data": {
      "text/plain": [
       "0    at_home\n",
       "1    at_home\n",
       "2    at_home\n",
       "3     health\n",
       "4      other\n",
       "Name: Mjob, dtype: object"
      ]
     },
     "execution_count": 18,
     "metadata": {},
     "output_type": "execute_result"
    }
   ],
   "source": [
    "data.Mjob[:5]"
   ]
  },
  {
   "cell_type": "code",
   "execution_count": 19,
   "metadata": {},
   "outputs": [
    {
     "data": {
      "text/html": [
       "<div>\n",
       "<style scoped>\n",
       "    .dataframe tbody tr th:only-of-type {\n",
       "        vertical-align: middle;\n",
       "    }\n",
       "\n",
       "    .dataframe tbody tr th {\n",
       "        vertical-align: top;\n",
       "    }\n",
       "\n",
       "    .dataframe thead th {\n",
       "        text-align: right;\n",
       "    }\n",
       "</style>\n",
       "<table border=\"1\" class=\"dataframe\">\n",
       "  <thead>\n",
       "    <tr style=\"text-align: right;\">\n",
       "      <th></th>\n",
       "      <th>at_home</th>\n",
       "      <th>health</th>\n",
       "      <th>other</th>\n",
       "      <th>services</th>\n",
       "      <th>teacher</th>\n",
       "    </tr>\n",
       "  </thead>\n",
       "  <tbody>\n",
       "    <tr>\n",
       "      <th>0</th>\n",
       "      <td>1</td>\n",
       "      <td>0</td>\n",
       "      <td>0</td>\n",
       "      <td>0</td>\n",
       "      <td>0</td>\n",
       "    </tr>\n",
       "    <tr>\n",
       "      <th>1</th>\n",
       "      <td>1</td>\n",
       "      <td>0</td>\n",
       "      <td>0</td>\n",
       "      <td>0</td>\n",
       "      <td>0</td>\n",
       "    </tr>\n",
       "    <tr>\n",
       "      <th>2</th>\n",
       "      <td>1</td>\n",
       "      <td>0</td>\n",
       "      <td>0</td>\n",
       "      <td>0</td>\n",
       "      <td>0</td>\n",
       "    </tr>\n",
       "    <tr>\n",
       "      <th>3</th>\n",
       "      <td>0</td>\n",
       "      <td>1</td>\n",
       "      <td>0</td>\n",
       "      <td>0</td>\n",
       "      <td>0</td>\n",
       "    </tr>\n",
       "    <tr>\n",
       "      <th>4</th>\n",
       "      <td>0</td>\n",
       "      <td>0</td>\n",
       "      <td>1</td>\n",
       "      <td>0</td>\n",
       "      <td>0</td>\n",
       "    </tr>\n",
       "  </tbody>\n",
       "</table>\n",
       "</div>"
      ],
      "text/plain": [
       "   at_home  health  other  services  teacher\n",
       "0        1       0      0         0        0\n",
       "1        1       0      0         0        0\n",
       "2        1       0      0         0        0\n",
       "3        0       1      0         0        0\n",
       "4        0       0      1         0        0"
      ]
     },
     "execution_count": 19,
     "metadata": {},
     "output_type": "execute_result"
    }
   ],
   "source": [
    "Mjob_multiple = pd.get_dummies(data.Mjob)\n",
    "Mjob_multiple[:5]"
   ]
  },
  {
   "cell_type": "code",
   "execution_count": 20,
   "metadata": {},
   "outputs": [
    {
     "data": {
      "text/plain": [
       "Index(['school', 'sex', 'age', 'address', 'Pstatus', 'Medu', 'traveltime',\n",
       "       'studytime', 'failures', 'schoolsup', 'famsup', 'paid', 'activities',\n",
       "       'nursery', 'higher', 'internet', 'romantic', 'freetime', 'goout',\n",
       "       'health_stud', 'absences', 'G1', 'G2', 'G3', 'Alc', 'at_home', 'health',\n",
       "       'other', 'services', 'teacher'],\n",
       "      dtype='object')"
      ]
     },
     "execution_count": 20,
     "metadata": {},
     "output_type": "execute_result"
    }
   ],
   "source": [
    "data = data.drop(['Mjob'], axis=1)\n",
    "data = pd.concat([data, Mjob_multiple], axis=1)\n",
    "data.columns"
   ]
  },
  {
   "cell_type": "markdown",
   "metadata": {},
   "source": [
    "*Теперь переведем значения бинарных признаков в 0 и 1, воспользовавшись тем, что мы уже обработали единственный номинальный признак, и остались только бинарные и числовые:*"
   ]
  },
  {
   "cell_type": "code",
   "execution_count": 21,
   "metadata": {},
   "outputs": [
    {
     "data": {
      "text/plain": [
       "['school',\n",
       " 'sex',\n",
       " 'address',\n",
       " 'Pstatus',\n",
       " 'schoolsup',\n",
       " 'famsup',\n",
       " 'paid',\n",
       " 'activities',\n",
       " 'nursery',\n",
       " 'higher',\n",
       " 'internet',\n",
       " 'romantic']"
      ]
     },
     "execution_count": 21,
     "metadata": {},
     "output_type": "execute_result"
    }
   ],
   "source": [
    "binary_features = [feature for feature in data.columns if data[feature].dtype.name == 'object']\n",
    "binary_features"
   ]
  },
  {
   "cell_type": "code",
   "execution_count": 22,
   "metadata": {},
   "outputs": [
    {
     "data": {
      "text/html": [
       "<div>\n",
       "<style scoped>\n",
       "    .dataframe tbody tr th:only-of-type {\n",
       "        vertical-align: middle;\n",
       "    }\n",
       "\n",
       "    .dataframe tbody tr th {\n",
       "        vertical-align: top;\n",
       "    }\n",
       "\n",
       "    .dataframe thead th {\n",
       "        text-align: right;\n",
       "    }\n",
       "</style>\n",
       "<table border=\"1\" class=\"dataframe\">\n",
       "  <thead>\n",
       "    <tr style=\"text-align: right;\">\n",
       "      <th></th>\n",
       "      <th>school</th>\n",
       "      <th>sex</th>\n",
       "      <th>address</th>\n",
       "      <th>Pstatus</th>\n",
       "      <th>schoolsup</th>\n",
       "      <th>famsup</th>\n",
       "      <th>paid</th>\n",
       "      <th>activities</th>\n",
       "      <th>nursery</th>\n",
       "      <th>higher</th>\n",
       "      <th>internet</th>\n",
       "      <th>romantic</th>\n",
       "    </tr>\n",
       "  </thead>\n",
       "  <tbody>\n",
       "    <tr>\n",
       "      <th>count</th>\n",
       "      <td>1044</td>\n",
       "      <td>1044</td>\n",
       "      <td>1044</td>\n",
       "      <td>1044</td>\n",
       "      <td>1044</td>\n",
       "      <td>1044</td>\n",
       "      <td>1044</td>\n",
       "      <td>1044</td>\n",
       "      <td>1044</td>\n",
       "      <td>1044</td>\n",
       "      <td>1044</td>\n",
       "      <td>1044</td>\n",
       "    </tr>\n",
       "    <tr>\n",
       "      <th>unique</th>\n",
       "      <td>2</td>\n",
       "      <td>2</td>\n",
       "      <td>2</td>\n",
       "      <td>2</td>\n",
       "      <td>2</td>\n",
       "      <td>2</td>\n",
       "      <td>2</td>\n",
       "      <td>2</td>\n",
       "      <td>2</td>\n",
       "      <td>2</td>\n",
       "      <td>2</td>\n",
       "      <td>2</td>\n",
       "    </tr>\n",
       "    <tr>\n",
       "      <th>top</th>\n",
       "      <td>GP</td>\n",
       "      <td>F</td>\n",
       "      <td>U</td>\n",
       "      <td>T</td>\n",
       "      <td>no</td>\n",
       "      <td>yes</td>\n",
       "      <td>no</td>\n",
       "      <td>no</td>\n",
       "      <td>yes</td>\n",
       "      <td>yes</td>\n",
       "      <td>yes</td>\n",
       "      <td>no</td>\n",
       "    </tr>\n",
       "    <tr>\n",
       "      <th>freq</th>\n",
       "      <td>772</td>\n",
       "      <td>591</td>\n",
       "      <td>759</td>\n",
       "      <td>923</td>\n",
       "      <td>925</td>\n",
       "      <td>640</td>\n",
       "      <td>824</td>\n",
       "      <td>528</td>\n",
       "      <td>835</td>\n",
       "      <td>955</td>\n",
       "      <td>827</td>\n",
       "      <td>673</td>\n",
       "    </tr>\n",
       "  </tbody>\n",
       "</table>\n",
       "</div>"
      ],
      "text/plain": [
       "       school   sex address Pstatus schoolsup famsup  paid activities nursery  \\\n",
       "count    1044  1044    1044    1044      1044   1044  1044       1044    1044   \n",
       "unique      2     2       2       2         2      2     2          2       2   \n",
       "top        GP     F       U       T        no    yes    no         no     yes   \n",
       "freq      772   591     759     923       925    640   824        528     835   \n",
       "\n",
       "       higher internet romantic  \n",
       "count    1044     1044     1044  \n",
       "unique      2        2        2  \n",
       "top       yes      yes       no  \n",
       "freq      955      827      673  "
      ]
     },
     "execution_count": 22,
     "metadata": {},
     "output_type": "execute_result"
    }
   ],
   "source": [
    "data[binary_features].describe()"
   ]
  },
  {
   "cell_type": "code",
   "execution_count": 23,
   "metadata": {},
   "outputs": [
    {
     "data": {
      "text/html": [
       "<div>\n",
       "<style scoped>\n",
       "    .dataframe tbody tr th:only-of-type {\n",
       "        vertical-align: middle;\n",
       "    }\n",
       "\n",
       "    .dataframe tbody tr th {\n",
       "        vertical-align: top;\n",
       "    }\n",
       "\n",
       "    .dataframe thead th {\n",
       "        text-align: right;\n",
       "    }\n",
       "</style>\n",
       "<table border=\"1\" class=\"dataframe\">\n",
       "  <thead>\n",
       "    <tr style=\"text-align: right;\">\n",
       "      <th></th>\n",
       "      <th>school</th>\n",
       "      <th>sex</th>\n",
       "      <th>address</th>\n",
       "      <th>Pstatus</th>\n",
       "      <th>schoolsup</th>\n",
       "      <th>famsup</th>\n",
       "      <th>paid</th>\n",
       "      <th>activities</th>\n",
       "      <th>nursery</th>\n",
       "      <th>higher</th>\n",
       "      <th>internet</th>\n",
       "      <th>romantic</th>\n",
       "    </tr>\n",
       "  </thead>\n",
       "  <tbody>\n",
       "    <tr>\n",
       "      <th>count</th>\n",
       "      <td>1044</td>\n",
       "      <td>1044</td>\n",
       "      <td>1044</td>\n",
       "      <td>1044</td>\n",
       "      <td>1044</td>\n",
       "      <td>1044</td>\n",
       "      <td>1044</td>\n",
       "      <td>1044</td>\n",
       "      <td>1044</td>\n",
       "      <td>1044</td>\n",
       "      <td>1044</td>\n",
       "      <td>1044</td>\n",
       "    </tr>\n",
       "    <tr>\n",
       "      <th>unique</th>\n",
       "      <td>2</td>\n",
       "      <td>2</td>\n",
       "      <td>2</td>\n",
       "      <td>2</td>\n",
       "      <td>2</td>\n",
       "      <td>2</td>\n",
       "      <td>2</td>\n",
       "      <td>2</td>\n",
       "      <td>2</td>\n",
       "      <td>2</td>\n",
       "      <td>2</td>\n",
       "      <td>2</td>\n",
       "    </tr>\n",
       "    <tr>\n",
       "      <th>top</th>\n",
       "      <td>1</td>\n",
       "      <td>1</td>\n",
       "      <td>1</td>\n",
       "      <td>1</td>\n",
       "      <td>1</td>\n",
       "      <td>1</td>\n",
       "      <td>1</td>\n",
       "      <td>1</td>\n",
       "      <td>1</td>\n",
       "      <td>1</td>\n",
       "      <td>1</td>\n",
       "      <td>1</td>\n",
       "    </tr>\n",
       "    <tr>\n",
       "      <th>freq</th>\n",
       "      <td>772</td>\n",
       "      <td>591</td>\n",
       "      <td>759</td>\n",
       "      <td>923</td>\n",
       "      <td>925</td>\n",
       "      <td>640</td>\n",
       "      <td>824</td>\n",
       "      <td>528</td>\n",
       "      <td>835</td>\n",
       "      <td>955</td>\n",
       "      <td>827</td>\n",
       "      <td>673</td>\n",
       "    </tr>\n",
       "  </tbody>\n",
       "</table>\n",
       "</div>"
      ],
      "text/plain": [
       "        school   sex  address  Pstatus  schoolsup  famsup  paid  activities  \\\n",
       "count     1044  1044     1044     1044       1044    1044  1044        1044   \n",
       "unique       2     2        2        2          2       2     2           2   \n",
       "top          1     1        1        1          1       1     1           1   \n",
       "freq       772   591      759      923        925     640   824         528   \n",
       "\n",
       "        nursery  higher  internet  romantic  \n",
       "count      1044    1044      1044      1044  \n",
       "unique        2       2         2         2  \n",
       "top           1       1         1         1  \n",
       "freq        835     955       827       673  "
      ]
     },
     "execution_count": 23,
     "metadata": {},
     "output_type": "execute_result"
    }
   ],
   "source": [
    "for feature in binary_features:\n",
    "    top_value = data[binary_features].describe()[feature]['top']\n",
    "    data.loc[data[feature] != top_value, feature] = 0\n",
    "    data.loc[data[feature] == top_value, feature] = 1\n",
    "data[binary_features].describe()"
   ]
  },
  {
   "cell_type": "markdown",
   "metadata": {},
   "source": [
    "## Классификация (6 баллов)\n",
    "\n",
    "### Предписания\n",
    "- Используйте accuracy как основную меру качества\n",
    "- Классы в задаче несбалансированные. Для корректной кросс-валидации используйте стратифицированный способ разбиения на фолды [Stratified K-fold](http://scikit-learn.org/stable/modules/generated/sklearn.model_selection.StratifiedKFold.html#sklearn.model_selection.StratifiedKFold)\n",
    "\n",
    "### Задание\n",
    "1. Задайте RANDOM_SEED и случайным образом разделите выборку на обучающую и контрольную в пропорции 80/20. Этот же RANDOM_SEED используйте при кросс-валидации (0.5 балла)\n",
    "2. Random Forest (2 балла)\n",
    "    * В статье описано использование Random Forest для предсказания важности фактором вляющих на потребление алкоголя.<br\\>\n",
    "    * Повторите эксперимент с использованием [RandomForest](http://scikit-learn.org/stable/modules/generated/sklearn.ensemble.RandomForestClassifier.html#sklearn.ensemble.RandomForestClassifier) и найдите наилучшие параметры с помощью кросс-валидации. (1 балл)<br\\>\n",
    "    * Изобразите аналогичную таблицу важности признаков для наилучшей настройки метода (значения могут отличаться). (0.5 балла)<br\\>\n",
    "    * Укажите значение accuracy для пяти наилучших настроек метода на контрольной выборке. (0.5 балла)<br\\>\n",
    "\n",
    "3. GradientBoosting (2 балла)\n",
    "    * Обучите [GradientBoostingClassifier](http://scikit-learn.org/stable/modules/generated/sklearn.ensemble.GradientBoostingClassifier.html#sklearn.ensemble.GradientBoostingClassifier)  и найдите для него наилучшие параметры с помощью кросс-валидации. (0.5 балла)<br\\>\n",
    "    * Изобразите таблицу важности признаков для наилучшей настройки метода. Отличается ли она от таблицы метода RandomForest. Почему? (1 балл)<br\\>\n",
    "    * Укажите значение accuracy для пяти наилучших настроек метода. (0.5 балла)<br\\>\n",
    "\n",
    "4. AdaBoost (1 балл)\n",
    "    * Обучите [AdaBoostClassifier](http://scikit-learn.org/stable/modules/generated/sklearn.ensemble.AdaBoostClassifier.html) и найдите для него наилучшие параметры с помощью кросс-валидации. (0.5 балла)<br\\>\n",
    "    * Укажите значение accuracy для пяти наилучших настроек метода. (0.5 балла)<br\\>\n",
    "\n",
    "5. Какой из классификаторов оказался лучше? (0.5 балла)"
   ]
  },
  {
   "cell_type": "code",
   "execution_count": 25,
   "metadata": {},
   "outputs": [],
   "source": [
    "from sklearn.metrics import accuracy_score\n",
    "from sklearn.model_selection import StratifiedKFold"
   ]
  },
  {
   "cell_type": "markdown",
   "metadata": {},
   "source": [
    "# 1 Разбиение выборки"
   ]
  },
  {
   "cell_type": "code",
   "execution_count": 26,
   "metadata": {},
   "outputs": [],
   "source": [
    "from sklearn.model_selection import train_test_split"
   ]
  },
  {
   "cell_type": "code",
   "execution_count": 27,
   "metadata": {},
   "outputs": [],
   "source": [
    "RANDOM_SEED = np.random.seed(13)\n",
    "train, test = train_test_split(data, test_size=0.2, random_state=RANDOM_SEED)"
   ]
  },
  {
   "cell_type": "code",
   "execution_count": 28,
   "metadata": {},
   "outputs": [
    {
     "data": {
      "text/plain": [
       "(835, 30)"
      ]
     },
     "execution_count": 28,
     "metadata": {},
     "output_type": "execute_result"
    }
   ],
   "source": [
    "train.shape"
   ]
  },
  {
   "cell_type": "code",
   "execution_count": 29,
   "metadata": {},
   "outputs": [
    {
     "data": {
      "text/plain": [
       "(209, 30)"
      ]
     },
     "execution_count": 29,
     "metadata": {},
     "output_type": "execute_result"
    }
   ],
   "source": [
    "test.shape"
   ]
  },
  {
   "cell_type": "code",
   "execution_count": 30,
   "metadata": {},
   "outputs": [
    {
     "data": {
      "text/html": [
       "<div>\n",
       "<style scoped>\n",
       "    .dataframe tbody tr th:only-of-type {\n",
       "        vertical-align: middle;\n",
       "    }\n",
       "\n",
       "    .dataframe tbody tr th {\n",
       "        vertical-align: top;\n",
       "    }\n",
       "\n",
       "    .dataframe thead th {\n",
       "        text-align: right;\n",
       "    }\n",
       "</style>\n",
       "<table border=\"1\" class=\"dataframe\">\n",
       "  <thead>\n",
       "    <tr style=\"text-align: right;\">\n",
       "      <th></th>\n",
       "      <th>school</th>\n",
       "      <th>sex</th>\n",
       "      <th>age</th>\n",
       "      <th>address</th>\n",
       "      <th>Pstatus</th>\n",
       "      <th>Medu</th>\n",
       "      <th>traveltime</th>\n",
       "      <th>studytime</th>\n",
       "      <th>failures</th>\n",
       "      <th>schoolsup</th>\n",
       "      <th>...</th>\n",
       "      <th>absences</th>\n",
       "      <th>G1</th>\n",
       "      <th>G2</th>\n",
       "      <th>G3</th>\n",
       "      <th>Alc</th>\n",
       "      <th>at_home</th>\n",
       "      <th>health</th>\n",
       "      <th>other</th>\n",
       "      <th>services</th>\n",
       "      <th>teacher</th>\n",
       "    </tr>\n",
       "  </thead>\n",
       "  <tbody>\n",
       "    <tr>\n",
       "      <th>860</th>\n",
       "      <td>0</td>\n",
       "      <td>1</td>\n",
       "      <td>18</td>\n",
       "      <td>1</td>\n",
       "      <td>1</td>\n",
       "      <td>1</td>\n",
       "      <td>1</td>\n",
       "      <td>2</td>\n",
       "      <td>1</td>\n",
       "      <td>1</td>\n",
       "      <td>...</td>\n",
       "      <td>9</td>\n",
       "      <td>9</td>\n",
       "      <td>8</td>\n",
       "      <td>8</td>\n",
       "      <td>0</td>\n",
       "      <td>0</td>\n",
       "      <td>0</td>\n",
       "      <td>1</td>\n",
       "      <td>0</td>\n",
       "      <td>0</td>\n",
       "    </tr>\n",
       "    <tr>\n",
       "      <th>269</th>\n",
       "      <td>1</td>\n",
       "      <td>1</td>\n",
       "      <td>18</td>\n",
       "      <td>0</td>\n",
       "      <td>1</td>\n",
       "      <td>2</td>\n",
       "      <td>2</td>\n",
       "      <td>2</td>\n",
       "      <td>0</td>\n",
       "      <td>1</td>\n",
       "      <td>...</td>\n",
       "      <td>0</td>\n",
       "      <td>6</td>\n",
       "      <td>0</td>\n",
       "      <td>0</td>\n",
       "      <td>0</td>\n",
       "      <td>0</td>\n",
       "      <td>0</td>\n",
       "      <td>1</td>\n",
       "      <td>0</td>\n",
       "      <td>0</td>\n",
       "    </tr>\n",
       "    <tr>\n",
       "      <th>581</th>\n",
       "      <td>1</td>\n",
       "      <td>0</td>\n",
       "      <td>17</td>\n",
       "      <td>1</td>\n",
       "      <td>1</td>\n",
       "      <td>4</td>\n",
       "      <td>1</td>\n",
       "      <td>2</td>\n",
       "      <td>0</td>\n",
       "      <td>1</td>\n",
       "      <td>...</td>\n",
       "      <td>0</td>\n",
       "      <td>11</td>\n",
       "      <td>9</td>\n",
       "      <td>10</td>\n",
       "      <td>0</td>\n",
       "      <td>0</td>\n",
       "      <td>0</td>\n",
       "      <td>0</td>\n",
       "      <td>0</td>\n",
       "      <td>1</td>\n",
       "    </tr>\n",
       "    <tr>\n",
       "      <th>775</th>\n",
       "      <td>1</td>\n",
       "      <td>1</td>\n",
       "      <td>17</td>\n",
       "      <td>1</td>\n",
       "      <td>1</td>\n",
       "      <td>4</td>\n",
       "      <td>1</td>\n",
       "      <td>3</td>\n",
       "      <td>0</td>\n",
       "      <td>1</td>\n",
       "      <td>...</td>\n",
       "      <td>0</td>\n",
       "      <td>13</td>\n",
       "      <td>12</td>\n",
       "      <td>13</td>\n",
       "      <td>0</td>\n",
       "      <td>0</td>\n",
       "      <td>0</td>\n",
       "      <td>0</td>\n",
       "      <td>0</td>\n",
       "      <td>1</td>\n",
       "    </tr>\n",
       "    <tr>\n",
       "      <th>669</th>\n",
       "      <td>1</td>\n",
       "      <td>1</td>\n",
       "      <td>17</td>\n",
       "      <td>1</td>\n",
       "      <td>1</td>\n",
       "      <td>1</td>\n",
       "      <td>1</td>\n",
       "      <td>2</td>\n",
       "      <td>0</td>\n",
       "      <td>0</td>\n",
       "      <td>...</td>\n",
       "      <td>10</td>\n",
       "      <td>10</td>\n",
       "      <td>9</td>\n",
       "      <td>10</td>\n",
       "      <td>0</td>\n",
       "      <td>1</td>\n",
       "      <td>0</td>\n",
       "      <td>0</td>\n",
       "      <td>0</td>\n",
       "      <td>0</td>\n",
       "    </tr>\n",
       "  </tbody>\n",
       "</table>\n",
       "<p>5 rows × 30 columns</p>\n",
       "</div>"
      ],
      "text/plain": [
       "    school sex  age address Pstatus  Medu  traveltime  studytime  failures  \\\n",
       "860      0   1   18       1       1     1           1          2         1   \n",
       "269      1   1   18       0       1     2           2          2         0   \n",
       "581      1   0   17       1       1     4           1          2         0   \n",
       "775      1   1   17       1       1     4           1          3         0   \n",
       "669      1   1   17       1       1     1           1          2         0   \n",
       "\n",
       "    schoolsup  ... absences  G1  G2  G3 Alc at_home health  other  services  \\\n",
       "860         1  ...        9   9   8   8   0       0      0      1         0   \n",
       "269         1  ...        0   6   0   0   0       0      0      1         0   \n",
       "581         1  ...        0  11   9  10   0       0      0      0         0   \n",
       "775         1  ...        0  13  12  13   0       0      0      0         0   \n",
       "669         0  ...       10  10   9  10   0       1      0      0         0   \n",
       "\n",
       "     teacher  \n",
       "860        0  \n",
       "269        0  \n",
       "581        1  \n",
       "775        1  \n",
       "669        0  \n",
       "\n",
       "[5 rows x 30 columns]"
      ]
     },
     "execution_count": 30,
     "metadata": {},
     "output_type": "execute_result"
    }
   ],
   "source": [
    "train.head()"
   ]
  },
  {
   "cell_type": "code",
   "execution_count": 31,
   "metadata": {},
   "outputs": [
    {
     "data": {
      "text/html": [
       "<div>\n",
       "<style scoped>\n",
       "    .dataframe tbody tr th:only-of-type {\n",
       "        vertical-align: middle;\n",
       "    }\n",
       "\n",
       "    .dataframe tbody tr th {\n",
       "        vertical-align: top;\n",
       "    }\n",
       "\n",
       "    .dataframe thead th {\n",
       "        text-align: right;\n",
       "    }\n",
       "</style>\n",
       "<table border=\"1\" class=\"dataframe\">\n",
       "  <thead>\n",
       "    <tr style=\"text-align: right;\">\n",
       "      <th></th>\n",
       "      <th>school</th>\n",
       "      <th>sex</th>\n",
       "      <th>age</th>\n",
       "      <th>address</th>\n",
       "      <th>Pstatus</th>\n",
       "      <th>Medu</th>\n",
       "      <th>traveltime</th>\n",
       "      <th>studytime</th>\n",
       "      <th>failures</th>\n",
       "      <th>schoolsup</th>\n",
       "      <th>...</th>\n",
       "      <th>absences</th>\n",
       "      <th>G1</th>\n",
       "      <th>G2</th>\n",
       "      <th>G3</th>\n",
       "      <th>Alc</th>\n",
       "      <th>at_home</th>\n",
       "      <th>health</th>\n",
       "      <th>other</th>\n",
       "      <th>services</th>\n",
       "      <th>teacher</th>\n",
       "    </tr>\n",
       "  </thead>\n",
       "  <tbody>\n",
       "    <tr>\n",
       "      <th>640</th>\n",
       "      <td>1</td>\n",
       "      <td>0</td>\n",
       "      <td>17</td>\n",
       "      <td>0</td>\n",
       "      <td>1</td>\n",
       "      <td>2</td>\n",
       "      <td>2</td>\n",
       "      <td>2</td>\n",
       "      <td>0</td>\n",
       "      <td>1</td>\n",
       "      <td>...</td>\n",
       "      <td>0</td>\n",
       "      <td>12</td>\n",
       "      <td>13</td>\n",
       "      <td>13</td>\n",
       "      <td>0</td>\n",
       "      <td>0</td>\n",
       "      <td>0</td>\n",
       "      <td>1</td>\n",
       "      <td>0</td>\n",
       "      <td>0</td>\n",
       "    </tr>\n",
       "    <tr>\n",
       "      <th>722</th>\n",
       "      <td>1</td>\n",
       "      <td>1</td>\n",
       "      <td>18</td>\n",
       "      <td>0</td>\n",
       "      <td>1</td>\n",
       "      <td>1</td>\n",
       "      <td>2</td>\n",
       "      <td>4</td>\n",
       "      <td>0</td>\n",
       "      <td>1</td>\n",
       "      <td>...</td>\n",
       "      <td>2</td>\n",
       "      <td>17</td>\n",
       "      <td>17</td>\n",
       "      <td>18</td>\n",
       "      <td>0</td>\n",
       "      <td>1</td>\n",
       "      <td>0</td>\n",
       "      <td>0</td>\n",
       "      <td>0</td>\n",
       "      <td>0</td>\n",
       "    </tr>\n",
       "    <tr>\n",
       "      <th>914</th>\n",
       "      <td>0</td>\n",
       "      <td>0</td>\n",
       "      <td>16</td>\n",
       "      <td>0</td>\n",
       "      <td>1</td>\n",
       "      <td>2</td>\n",
       "      <td>2</td>\n",
       "      <td>2</td>\n",
       "      <td>0</td>\n",
       "      <td>1</td>\n",
       "      <td>...</td>\n",
       "      <td>0</td>\n",
       "      <td>8</td>\n",
       "      <td>7</td>\n",
       "      <td>0</td>\n",
       "      <td>0</td>\n",
       "      <td>0</td>\n",
       "      <td>0</td>\n",
       "      <td>1</td>\n",
       "      <td>0</td>\n",
       "      <td>0</td>\n",
       "    </tr>\n",
       "    <tr>\n",
       "      <th>731</th>\n",
       "      <td>1</td>\n",
       "      <td>0</td>\n",
       "      <td>18</td>\n",
       "      <td>1</td>\n",
       "      <td>1</td>\n",
       "      <td>4</td>\n",
       "      <td>1</td>\n",
       "      <td>2</td>\n",
       "      <td>0</td>\n",
       "      <td>1</td>\n",
       "      <td>...</td>\n",
       "      <td>2</td>\n",
       "      <td>15</td>\n",
       "      <td>16</td>\n",
       "      <td>16</td>\n",
       "      <td>0</td>\n",
       "      <td>0</td>\n",
       "      <td>0</td>\n",
       "      <td>0</td>\n",
       "      <td>0</td>\n",
       "      <td>1</td>\n",
       "    </tr>\n",
       "    <tr>\n",
       "      <th>688</th>\n",
       "      <td>1</td>\n",
       "      <td>1</td>\n",
       "      <td>18</td>\n",
       "      <td>1</td>\n",
       "      <td>1</td>\n",
       "      <td>1</td>\n",
       "      <td>1</td>\n",
       "      <td>3</td>\n",
       "      <td>0</td>\n",
       "      <td>1</td>\n",
       "      <td>...</td>\n",
       "      <td>4</td>\n",
       "      <td>11</td>\n",
       "      <td>12</td>\n",
       "      <td>14</td>\n",
       "      <td>0</td>\n",
       "      <td>0</td>\n",
       "      <td>0</td>\n",
       "      <td>1</td>\n",
       "      <td>0</td>\n",
       "      <td>0</td>\n",
       "    </tr>\n",
       "  </tbody>\n",
       "</table>\n",
       "<p>5 rows × 30 columns</p>\n",
       "</div>"
      ],
      "text/plain": [
       "    school sex  age address Pstatus  Medu  traveltime  studytime  failures  \\\n",
       "640      1   0   17       0       1     2           2          2         0   \n",
       "722      1   1   18       0       1     1           2          4         0   \n",
       "914      0   0   16       0       1     2           2          2         0   \n",
       "731      1   0   18       1       1     4           1          2         0   \n",
       "688      1   1   18       1       1     1           1          3         0   \n",
       "\n",
       "    schoolsup  ... absences  G1  G2  G3 Alc at_home health  other  services  \\\n",
       "640         1  ...        0  12  13  13   0       0      0      1         0   \n",
       "722         1  ...        2  17  17  18   0       1      0      0         0   \n",
       "914         1  ...        0   8   7   0   0       0      0      1         0   \n",
       "731         1  ...        2  15  16  16   0       0      0      0         0   \n",
       "688         1  ...        4  11  12  14   0       0      0      1         0   \n",
       "\n",
       "     teacher  \n",
       "640        0  \n",
       "722        0  \n",
       "914        0  \n",
       "731        1  \n",
       "688        0  \n",
       "\n",
       "[5 rows x 30 columns]"
      ]
     },
     "execution_count": 31,
     "metadata": {},
     "output_type": "execute_result"
    }
   ],
   "source": [
    "test.head()"
   ]
  },
  {
   "cell_type": "code",
   "execution_count": 32,
   "metadata": {},
   "outputs": [],
   "source": [
    "X_train = train.drop(['Alc'], axis=1)\n",
    "X_test = test.drop(['Alc'], axis=1)\n",
    "y_train = train.Alc.values\n",
    "y_test = test.Alc.values"
   ]
  },
  {
   "cell_type": "markdown",
   "metadata": {},
   "source": [
    "# 2 Random Forest"
   ]
  },
  {
   "cell_type": "code",
   "execution_count": 34,
   "metadata": {},
   "outputs": [],
   "source": [
    "from sklearn.ensemble import RandomForestClassifier\n",
    "from sklearn.model_selection import GridSearchCV"
   ]
  },
  {
   "cell_type": "code",
   "execution_count": 97,
   "metadata": {},
   "outputs": [
    {
     "name": "stdout",
     "output_type": "stream",
     "text": [
      "0.10538922155688635 10\n"
     ]
    }
   ],
   "source": [
    "n_estimators_array = [5, 10, 15, 20, 25, 30, 40, 50, 75, 100, 150, 200, 250, 300, 350, 400]\n",
    "rf = RandomForestClassifier(random_state = RANDOM_SEED)\n",
    "grid_rf = GridSearchCV(rf, param_grid={'n_estimators': n_estimators_array}, scoring='accuracy',\n",
    "                    cv=StratifiedKFold(n_splits=5, random_state=RANDOM_SEED))\n",
    "grid_rf.fit(X_train, y_train)\n",
    "\n",
    "best_cv_err = 1 - grid_rf.best_score_\n",
    "best_n_estimators = grid_rf.best_estimator_.n_estimators\n",
    "print (best_cv_err, best_n_estimators)"
   ]
  },
  {
   "cell_type": "code",
   "execution_count": 98,
   "metadata": {},
   "outputs": [
    {
     "data": {
      "text/plain": [
       "RandomForestClassifier(n_estimators=10)"
      ]
     },
     "execution_count": 98,
     "metadata": {},
     "output_type": "execute_result"
    }
   ],
   "source": [
    "rf = RandomForestClassifier(n_estimators=best_n_estimators, random_state=RANDOM_SEED)\n",
    "rf.fit(X_train, y_train)"
   ]
  },
  {
   "cell_type": "code",
   "execution_count": 99,
   "metadata": {},
   "outputs": [
    {
     "name": "stdout",
     "output_type": "stream",
     "text": [
      "Feature importances:\n",
      "1. 'age' (0.0987)\n",
      "2. 'absences' (0.0883)\n",
      "3. 'G1' (0.0770)\n",
      "4. 'goout' (0.0744)\n",
      "5. 'G3' (0.0563)\n",
      "6. 'freetime' (0.0536)\n",
      "7. 'G2' (0.0536)\n",
      "8. 'sex' (0.0501)\n",
      "9. 'Medu' (0.0497)\n",
      "10. 'health_stud' (0.0472)\n",
      "11. 'studytime' (0.0375)\n",
      "12. 'traveltime' (0.0291)\n",
      "13. 'failures' (0.0283)\n",
      "14. 'school' (0.0261)\n",
      "15. 'activities' (0.0254)\n",
      "16. 'paid' (0.0217)\n",
      "17. 'nursery' (0.0214)\n",
      "18. 'health' (0.0184)\n",
      "19. 'romantic' (0.0174)\n",
      "20. 'famsup' (0.0172)\n",
      "21. 'services' (0.0169)\n",
      "22. 'address' (0.0165)\n",
      "23. 'Alc' (0.0160)\n",
      "24. 'internet' (0.0138)\n",
      "25. 'Pstatus' (0.0124)\n",
      "26. 'higher' (0.0096)\n",
      "27. 'other' (0.0090)\n",
      "28. 'at_home' (0.0086)\n",
      "29. 'schoolsup' (0.0056)\n"
     ]
    }
   ],
   "source": [
    "importances = rf.feature_importances_\n",
    "indices = np.argsort(importances)[::-1]\n",
    "print(\"Feature importances:\")\n",
    "for feature, index in enumerate(indices):\n",
    "    print(\"{:d}. '{:s}' ({:.4f})\".format(feature + 1, train.columns[index], importances[index]))"
   ]
  },
  {
   "cell_type": "code",
   "execution_count": 100,
   "metadata": {},
   "outputs": [
    {
     "data": {
      "image/png": "[encoded data removed]",
      "text/plain": [
       "<Figure size 1500x600 with 1 Axes>"
      ]
     },
     "metadata": {},
     "output_type": "display_data"
    }
   ],
   "source": [
    "plt.title(\"Feature importances (Random Forest)\")\n",
    "plt.bar(np.arange(len(train.columns) - 1), importances[indices], align='center')\n",
    "plt.xticks(range(len(train.columns) - 1), train.columns[indices[:len(train.columns)]], rotation=90)\n",
    "plt.xlim([-1, len(train.columns)])\n",
    "plt.show()"
   ]
  },
  {
   "cell_type": "code",
   "execution_count": 101,
   "metadata": {},
   "outputs": [
    {
     "data": {
      "text/plain": [
       "{'mean_fit_time': array([0.01556578, 0.01874385, 0.02732725, 0.03410349, 0.04329829,\n",
       "        0.05385971, 0.06821179, 0.07818599, 0.11769714, 0.15158882,\n",
       "        0.22458544, 0.31714387, 0.39574113, 0.51661448, 0.62513294,\n",
       "        0.92731886]),\n",
       " 'std_fit_time': array([0.00376292, 0.00115573, 0.00286305, 0.00074763, 0.00325433,\n",
       "        0.00808628, 0.00457975, 0.00205057, 0.0046173 , 0.00227602,\n",
       "        0.00305467, 0.00737771, 0.01201224, 0.0655297 , 0.0778644 ,\n",
       "        0.07978144]),\n",
       " 'mean_score_time': array([0.00358105, 0.00359077, 0.00458717, 0.00478721, 0.00577631,\n",
       "        0.00558491, 0.00678802, 0.00719166, 0.01016116, 0.01396847,\n",
       "        0.01836314, 0.023736  , 0.03231544, 0.03530049, 0.0576458 ,\n",
       "        0.07699552]),\n",
       " 'std_score_time': array([0.00048206, 0.00048916, 0.00135209, 0.00074654, 0.00074034,\n",
       "        0.00079772, 0.00073979, 0.00040745, 0.00115549, 0.00063167,\n",
       "        0.00120687, 0.00074476, 0.00491195, 0.00135838, 0.01351022,\n",
       "        0.01669631]),\n",
       " 'param_n_estimators': masked_array(data=[5, 10, 15, 20, 25, 30, 40, 50, 75, 100, 150, 200, 250,\n",
       "                    300, 350, 400],\n",
       "              mask=[False, False, False, False, False, False, False, False,\n",
       "                    False, False, False, False, False, False, False, False],\n",
       "        fill_value='?',\n",
       "             dtype=object),\n",
       " 'params': [{'n_estimators': 5},\n",
       "  {'n_estimators': 10},\n",
       "  {'n_estimators': 15},\n",
       "  {'n_estimators': 20},\n",
       "  {'n_estimators': 25},\n",
       "  {'n_estimators': 30},\n",
       "  {'n_estimators': 40},\n",
       "  {'n_estimators': 50},\n",
       "  {'n_estimators': 75},\n",
       "  {'n_estimators': 100},\n",
       "  {'n_estimators': 150},\n",
       "  {'n_estimators': 200},\n",
       "  {'n_estimators': 250},\n",
       "  {'n_estimators': 300},\n",
       "  {'n_estimators': 350},\n",
       "  {'n_estimators': 400}],\n",
       " 'split0_test_score': array([0.89221557, 0.89820359, 0.8742515 , 0.8742515 , 0.88622754,\n",
       "        0.88622754, 0.89221557, 0.89221557, 0.88622754, 0.89221557,\n",
       "        0.89221557, 0.88622754, 0.89221557, 0.89221557, 0.88622754,\n",
       "        0.89221557]),\n",
       " 'split1_test_score': array([0.88622754, 0.91017964, 0.89221557, 0.89221557, 0.89820359,\n",
       "        0.89820359, 0.88622754, 0.88622754, 0.90419162, 0.89820359,\n",
       "        0.89820359, 0.89820359, 0.89820359, 0.89221557, 0.89820359,\n",
       "        0.89221557]),\n",
       " 'split2_test_score': array([0.89820359, 0.89221557, 0.88622754, 0.89820359, 0.89820359,\n",
       "        0.89221557, 0.89820359, 0.89221557, 0.89221557, 0.89221557,\n",
       "        0.89221557, 0.89221557, 0.89221557, 0.88622754, 0.89221557,\n",
       "        0.89221557]),\n",
       " 'split3_test_score': array([0.86227545, 0.88622754, 0.89820359, 0.89221557, 0.88622754,\n",
       "        0.89221557, 0.88622754, 0.89820359, 0.89820359, 0.89221557,\n",
       "        0.88622754, 0.88622754, 0.89221557, 0.88622754, 0.88622754,\n",
       "        0.89221557]),\n",
       " 'split4_test_score': array([0.84431138, 0.88622754, 0.89221557, 0.8742515 , 0.8742515 ,\n",
       "        0.88023952, 0.88023952, 0.88622754, 0.88023952, 0.89221557,\n",
       "        0.88023952, 0.8742515 , 0.88622754, 0.88622754, 0.88023952,\n",
       "        0.88023952]),\n",
       " 'mean_test_score': array([0.87664671, 0.89461078, 0.88862275, 0.88622754, 0.88862275,\n",
       "        0.88982036, 0.88862275, 0.89101796, 0.89221557, 0.89341317,\n",
       "        0.88982036, 0.88742515, 0.89221557, 0.88862275, 0.88862275,\n",
       "        0.88982036]),\n",
       " 'std_test_score': array([0.02025333, 0.00896205, 0.00812255, 0.01001988, 0.00896205,\n",
       "        0.00610661, 0.00610661, 0.00448103, 0.00846834, 0.00239521,\n",
       "        0.00610661, 0.00794401, 0.00378716, 0.00293352, 0.00610661,\n",
       "        0.00479042]),\n",
       " 'rank_test_score': array([16,  1,  9, 15, 10,  6, 10,  5,  3,  2,  8, 14,  3, 10, 10,  6])}"
      ]
     },
     "execution_count": 101,
     "metadata": {},
     "output_type": "execute_result"
    }
   ],
   "source": [
    "grid_rf.cv_results_"
   ]
  },
  {
   "cell_type": "code",
   "execution_count": 102,
   "metadata": {},
   "outputs": [],
   "source": [
    "# sorted(grid_rf.grid_results_, key=lambda x: x[1], reverse=True)"
   ]
  },
  {
   "cell_type": "code",
   "execution_count": 107,
   "metadata": {},
   "outputs": [
    {
     "name": "stdout",
     "output_type": "stream",
     "text": [
      "10 0.8995215311004785\n",
      "100 0.9043062200956937\n",
      "75 0.9043062200956937\n",
      "250 0.9043062200956937\n",
      "50 0.9186602870813397\n"
     ]
    }
   ],
   "source": [
    "best_parameters = [10, 100, 75, 250, 50]\n",
    "for parameter in best_parameters:\n",
    "    rf = RandomForestClassifier(n_estimators=parameter, random_state=RANDOM_SEED)\n",
    "    rf.fit(X_train, y_train)\n",
    "    print(parameter, accuracy_score(y_test, rf.predict(X_test)))"
   ]
  },
  {
   "cell_type": "markdown",
   "metadata": {},
   "source": [
    "# 3 Gradient Boosting"
   ]
  },
  {
   "cell_type": "code",
   "execution_count": 56,
   "metadata": {},
   "outputs": [],
   "source": [
    "from sklearn.ensemble import GradientBoostingClassifier"
   ]
  },
  {
   "cell_type": "code",
   "execution_count": 58,
   "metadata": {},
   "outputs": [
    {
     "name": "stdout",
     "output_type": "stream",
     "text": [
      "0.1089820359281436 45\n"
     ]
    }
   ],
   "source": [
    "n_estimators_array = [20, 25, 30, 35, 40, 45, 50, 55, 60, 65, 70, 75, 80, 85, 90, 95, 100, 110, 120]\n",
    "gbt = GradientBoostingClassifier(random_state = RANDOM_SEED)\n",
    "grid_gbt = GridSearchCV(gbt, param_grid={'n_estimators': n_estimators_array}, scoring='accuracy',\n",
    "                    cv=StratifiedKFold(n_splits=5, random_state=RANDOM_SEED))\n",
    "grid_gbt.fit(X_train, y_train)\n",
    "\n",
    "best_cv_err = 1 - grid_gbt.best_score_\n",
    "best_n_estimators = grid_gbt.best_estimator_.n_estimators\n",
    "print(best_cv_err, best_n_estimators)"
   ]
  },
  {
   "cell_type": "code",
   "execution_count": 59,
   "metadata": {
    "scrolled": true
   },
   "outputs": [
    {
     "data": {
      "text/plain": [
       "GradientBoostingClassifier(n_estimators=45)"
      ]
     },
     "execution_count": 59,
     "metadata": {},
     "output_type": "execute_result"
    }
   ],
   "source": [
    "gbt = GradientBoostingClassifier(n_estimators=best_n_estimators, random_state=RANDOM_SEED)\n",
    "gbt.fit(X_train, y_train)"
   ]
  },
  {
   "cell_type": "code",
   "execution_count": 60,
   "metadata": {},
   "outputs": [
    {
     "name": "stdout",
     "output_type": "stream",
     "text": [
      "Feature importances:\n",
      "1. 'absences' (0.1844)\n",
      "2. 'goout' (0.1456)\n",
      "3. 'sex' (0.1449)\n",
      "4. 'age' (0.1006)\n",
      "5. 'G1' (0.1001)\n",
      "6. 'freetime' (0.0683)\n",
      "7. 'studytime' (0.0619)\n",
      "8. 'G3' (0.0395)\n",
      "9. 'Medu' (0.0248)\n",
      "10. 'address' (0.0159)\n",
      "11. 'services' (0.0117)\n",
      "12. 'school' (0.0114)\n",
      "13. 'traveltime' (0.0103)\n",
      "14. 'Alc' (0.0102)\n",
      "15. 'health' (0.0096)\n",
      "16. 'health_stud' (0.0093)\n",
      "17. 'higher' (0.0091)\n",
      "18. 'G2' (0.0079)\n",
      "19. 'schoolsup' (0.0073)\n",
      "20. 'romantic' (0.0062)\n",
      "21. 'nursery' (0.0056)\n",
      "22. 'failures' (0.0050)\n",
      "23. 'internet' (0.0032)\n",
      "24. 'activities' (0.0022)\n",
      "25. 'at_home' (0.0019)\n",
      "26. 'Pstatus' (0.0019)\n",
      "27. 'other' (0.0011)\n",
      "28. 'famsup' (0.0000)\n",
      "29. 'paid' (0.0000)\n"
     ]
    }
   ],
   "source": [
    "importances = gbt.feature_importances_\n",
    "indices = np.argsort(importances)[::-1]\n",
    "print(\"Feature importances:\")\n",
    "for feature, index in enumerate(indices):\n",
    "    print(\"{:d}. '{:s}' ({:.4f})\".format(feature + 1, train.columns[index], importances[index]))"
   ]
  },
  {
   "cell_type": "code",
   "execution_count": 61,
   "metadata": {},
   "outputs": [
    {
     "data": {
      "image/png": "[encoded data removed]",
      "text/plain": [
       "<Figure size 1500x600 with 1 Axes>"
      ]
     },
     "metadata": {},
     "output_type": "display_data"
    }
   ],
   "source": [
    "plt.title(\"Feature importances (Gradient Boosting)\")\n",
    "plt.bar(np.arange(len(train.columns) - 1), importances[indices], align='center', color='red')\n",
    "plt.xticks(range(len(train.columns) - 1), train.columns[indices[:len(train.columns)]], rotation=90)\n",
    "plt.xlim([-1, len(train.columns)])\n",
    "plt.show()"
   ]
  },
  {
   "cell_type": "markdown",
   "metadata": {},
   "source": [
    "*Видна разница между таблицами и диаграммами важности признаков для Random Forest и Gradient Boosting - в первом случае коэффициенты важности убывают довольно плавно, а во втором случае резко, а также некоторые признаки находятся на других местах. Возможно, разница в плавности возникает из-за того, что, в отличие от случайного леса, деревья при градиентном бустинге строятся итеративно, и алгоритм, выделяя и отбрасывая какие-то признаки на отдельном этапе, \"подстраивается\" далее под их важность (здесь имеется в виду, что если в каком-то дереве часто используется в разбиении вершин некоторый признак, то, в следующих деревьях он, вероятно, тоже будет часто использоваться). В случайном лесе же все деревья строятся параллельно, поэтому дисбаланс в важности признаков сглаживается. Ну а то, что признаки будут стоять в одном алгоритме на одних местах, а в другом алгоритме - на других, очевидно в силу разной структуры алгоритмов.*"
   ]
  },
  {
   "cell_type": "code",
   "execution_count": 75,
   "metadata": {},
   "outputs": [
    {
     "data": {
      "text/plain": [
       "{'mean_fit_time': array([0.04029617, 0.03889294, 0.0442946 , 0.05756311, 0.07101202,\n",
       "        0.0656188 , 0.083564  , 0.09772997, 0.08796482, 0.08996425,\n",
       "        0.09755583, 0.10272498, 0.11090178, 0.11929269, 0.12785277,\n",
       "        0.1474113 , 0.15737348, 0.16634693, 0.17971163]),\n",
       " 'std_fit_time': array([0.00904102, 0.00332582, 0.00136125, 0.00530096, 0.00801282,\n",
       "        0.00406394, 0.00277967, 0.00807791, 0.00230873, 0.00247292,\n",
       "        0.00116615, 0.00126968, 0.00222252, 0.00360506, 0.00353514,\n",
       "        0.00989769, 0.02017634, 0.01090429, 0.01486427]),\n",
       " 'mean_score_time': array([0.00278692, 0.00259099, 0.00199533, 0.00278549, 0.00259118,\n",
       "        0.00319586, 0.00300174, 0.00319014, 0.00259261, 0.00199313,\n",
       "        0.00259085, 0.00219374, 0.00258813, 0.00298634, 0.00279808,\n",
       "        0.00298886, 0.00239882, 0.00359921, 0.00319734]),\n",
       " 'std_score_time': array([1.16219431e-03, 4.79793482e-04, 1.73151647e-05, 9.71934893e-04,\n",
       "        4.88082242e-04, 3.97492456e-04, 6.30325580e-04, 4.00344726e-04,\n",
       "        4.88071643e-04, 3.55363672e-06, 4.74904852e-04, 3.99807851e-04,\n",
       "        4.84687781e-04, 1.08131720e-03, 7.55112133e-04, 6.26749678e-04,\n",
       "        4.94850948e-04, 8.06466855e-04, 7.52257273e-04]),\n",
       " 'param_n_estimators': masked_array(data=[20, 25, 30, 35, 40, 45, 50, 55, 60, 65, 70, 75, 80, 85,\n",
       "                    90, 95, 100, 110, 120],\n",
       "              mask=[False, False, False, False, False, False, False, False,\n",
       "                    False, False, False, False, False, False, False, False,\n",
       "                    False, False, False],\n",
       "        fill_value='?',\n",
       "             dtype=object),\n",
       " 'params': [{'n_estimators': 20},\n",
       "  {'n_estimators': 25},\n",
       "  {'n_estimators': 30},\n",
       "  {'n_estimators': 35},\n",
       "  {'n_estimators': 40},\n",
       "  {'n_estimators': 45},\n",
       "  {'n_estimators': 50},\n",
       "  {'n_estimators': 55},\n",
       "  {'n_estimators': 60},\n",
       "  {'n_estimators': 65},\n",
       "  {'n_estimators': 70},\n",
       "  {'n_estimators': 75},\n",
       "  {'n_estimators': 80},\n",
       "  {'n_estimators': 85},\n",
       "  {'n_estimators': 90},\n",
       "  {'n_estimators': 95},\n",
       "  {'n_estimators': 100},\n",
       "  {'n_estimators': 110},\n",
       "  {'n_estimators': 120}],\n",
       " 'split0_test_score': array([0.89221557, 0.89820359, 0.90419162, 0.90419162, 0.89221557,\n",
       "        0.89820359, 0.89221557, 0.89221557, 0.88622754, 0.88622754,\n",
       "        0.88622754, 0.88622754, 0.88023952, 0.88622754, 0.88622754,\n",
       "        0.88622754, 0.88622754, 0.88622754, 0.89221557]),\n",
       " 'split1_test_score': array([0.88622754, 0.88622754, 0.88622754, 0.88622754, 0.88622754,\n",
       "        0.89221557, 0.89221557, 0.88622754, 0.89221557, 0.88622754,\n",
       "        0.89221557, 0.88622754, 0.88023952, 0.88023952, 0.88023952,\n",
       "        0.88023952, 0.88023952, 0.8742515 , 0.8742515 ]),\n",
       " 'split2_test_score': array([0.8742515 , 0.88622754, 0.89221557, 0.88622754, 0.89221557,\n",
       "        0.89221557, 0.89221557, 0.89221557, 0.88622754, 0.88622754,\n",
       "        0.88023952, 0.8742515 , 0.88023952, 0.88622754, 0.88023952,\n",
       "        0.88023952, 0.8742515 , 0.8742515 , 0.88023952]),\n",
       " 'split3_test_score': array([0.89221557, 0.89221557, 0.89221557, 0.89221557, 0.89221557,\n",
       "        0.89221557, 0.88622754, 0.89221557, 0.88622754, 0.8742515 ,\n",
       "        0.8742515 , 0.88023952, 0.88023952, 0.8742515 , 0.8742515 ,\n",
       "        0.88023952, 0.8742515 , 0.8742515 , 0.8742515 ]),\n",
       " 'split4_test_score': array([0.88622754, 0.88622754, 0.8742515 , 0.8742515 , 0.88023952,\n",
       "        0.88023952, 0.88023952, 0.8742515 , 0.86826347, 0.86227545,\n",
       "        0.86227545, 0.86227545, 0.86826347, 0.85628743, 0.86227545,\n",
       "        0.85628743, 0.85628743, 0.8502994 , 0.8502994 ]),\n",
       " 'mean_test_score': array([0.88622754, 0.88982036, 0.88982036, 0.88862275, 0.88862275,\n",
       "        0.89101796, 0.88862275, 0.88742515, 0.88383234, 0.87904192,\n",
       "        0.87904192, 0.87784431, 0.87784431, 0.87664671, 0.87664671,\n",
       "        0.87664671, 0.8742515 , 0.87185629, 0.8742515 ]),\n",
       " 'std_test_score': array([0.00655955, 0.00479042, 0.00972939, 0.00972939, 0.00479042,\n",
       "        0.00586704, 0.00479042, 0.00698318, 0.00812255, 0.00958084,\n",
       "        0.01030219, 0.00896205, 0.00479042, 0.01110613, 0.00812255,\n",
       "        0.01044048, 0.01001988, 0.01173408, 0.0136548 ]),\n",
       " 'rank_test_score': array([ 8,  2,  2,  4,  4,  1,  6,  7,  9, 10, 10, 12, 12, 14, 14, 14, 17,\n",
       "        19, 17])}"
      ]
     },
     "execution_count": 75,
     "metadata": {},
     "output_type": "execute_result"
    }
   ],
   "source": [
    "grid_gbt.cv_results_"
   ]
  },
  {
   "cell_type": "code",
   "execution_count": 78,
   "metadata": {},
   "outputs": [],
   "source": [
    "# grid_gbt.grid_scores_"
   ]
  },
  {
   "cell_type": "code",
   "execution_count": 77,
   "metadata": {},
   "outputs": [],
   "source": [
    "# sorted(grid_gbt.grid_scores_, key=lambda x: x[1], reverse=True)"
   ]
  },
  {
   "cell_type": "code",
   "execution_count": 76,
   "metadata": {},
   "outputs": [
    {
     "name": "stdout",
     "output_type": "stream",
     "text": [
      "45 0.8995215311004785\n",
      "25 0.8947368421052632\n",
      "30 0.8947368421052632\n"
     ]
    }
   ],
   "source": [
    "best_parameters = [45, 25, 30]\n",
    "for parameter in best_parameters:\n",
    "    gbt = GradientBoostingClassifier(n_estimators=parameter, random_state=RANDOM_SEED)\n",
    "    gbt.fit(X_train, y_train)\n",
    "    print(parameter, accuracy_score(y_test, gbt.predict(X_test)))"
   ]
  },
  {
   "cell_type": "markdown",
   "metadata": {},
   "source": [
    "# 4 AdaBoost"
   ]
  },
  {
   "cell_type": "code",
   "execution_count": 79,
   "metadata": {},
   "outputs": [],
   "source": [
    "from sklearn.ensemble import AdaBoostClassifier"
   ]
  },
  {
   "cell_type": "code",
   "execution_count": 81,
   "metadata": {},
   "outputs": [
    {
     "name": "stdout",
     "output_type": "stream",
     "text": [
      "0.12095808383233542 40\n"
     ]
    }
   ],
   "source": [
    "n_estimators_array = [20, 25, 30, 35, 40, 45, 50, 55, 60, 65, 70, 75, 80, 85, 90, 95, 100, 110, 120]\n",
    "ada = AdaBoostClassifier(random_state = RANDOM_SEED)\n",
    "grid_ada = GridSearchCV(ada, param_grid={'n_estimators': n_estimators_array}, scoring='accuracy',\n",
    "                    cv=StratifiedKFold(n_splits=5, random_state=RANDOM_SEED))\n",
    "grid_ada.fit(X_train, y_train)\n",
    "\n",
    "best_cv_err = 1 - grid_ada.best_score_\n",
    "best_n_estimators = grid_ada.best_estimator_.n_estimators\n",
    "print(best_cv_err, best_n_estimators)"
   ]
  },
  {
   "cell_type": "code",
   "execution_count": 89,
   "metadata": {},
   "outputs": [
    {
     "data": {
      "text/plain": [
       "{'mean_fit_time': array([0.07340398, 0.08018451, 0.11271648, 0.1308372 , 0.12765903,\n",
       "        0.13722596, 0.15898337, 0.1701416 , 0.19010696, 0.20164142,\n",
       "        0.22001157, 0.23317499, 0.27148519, 0.29560981, 0.27607799,\n",
       "        0.29920988, 0.38417563, 0.34966626, 0.37082043]),\n",
       " 'std_fit_time': array([0.01479986, 0.00422304, 0.00757453, 0.01880905, 0.00937919,\n",
       "        0.00336785, 0.0115785 , 0.00720511, 0.00672254, 0.00203445,\n",
       "        0.01018307, 0.00624348, 0.02645467, 0.05313753, 0.00721979,\n",
       "        0.00641596, 0.08428582, 0.01631621, 0.004737  ]),\n",
       " 'mean_score_time': array([0.00898118, 0.01017375, 0.01374521, 0.01695561, 0.01555758,\n",
       "        0.01656289, 0.01874146, 0.02034726, 0.02232609, 0.02355051,\n",
       "        0.02972322, 0.02931776, 0.03291225, 0.03092279, 0.03210359,\n",
       "        0.03529553, 0.05484438, 0.03929915, 0.04389386]),\n",
       " 'std_score_time': array([0.00062182, 0.00075431, 0.00159337, 0.00432092, 0.00101709,\n",
       "        0.00081072, 0.00131259, 0.00048425, 0.00134876, 0.0008075 ,\n",
       "        0.0043871 , 0.0028664 , 0.00389087, 0.00405038, 0.00117779,\n",
       "        0.00148588, 0.02253919, 0.00163267, 0.00373122]),\n",
       " 'param_n_estimators': masked_array(data=[20, 25, 30, 35, 40, 45, 50, 55, 60, 65, 70, 75, 80, 85,\n",
       "                    90, 95, 100, 110, 120],\n",
       "              mask=[False, False, False, False, False, False, False, False,\n",
       "                    False, False, False, False, False, False, False, False,\n",
       "                    False, False, False],\n",
       "        fill_value='?',\n",
       "             dtype=object),\n",
       " 'params': [{'n_estimators': 20},\n",
       "  {'n_estimators': 25},\n",
       "  {'n_estimators': 30},\n",
       "  {'n_estimators': 35},\n",
       "  {'n_estimators': 40},\n",
       "  {'n_estimators': 45},\n",
       "  {'n_estimators': 50},\n",
       "  {'n_estimators': 55},\n",
       "  {'n_estimators': 60},\n",
       "  {'n_estimators': 65},\n",
       "  {'n_estimators': 70},\n",
       "  {'n_estimators': 75},\n",
       "  {'n_estimators': 80},\n",
       "  {'n_estimators': 85},\n",
       "  {'n_estimators': 90},\n",
       "  {'n_estimators': 95},\n",
       "  {'n_estimators': 100},\n",
       "  {'n_estimators': 110},\n",
       "  {'n_estimators': 120}],\n",
       " 'split0_test_score': array([0.86826347, 0.86826347, 0.86227545, 0.86227545, 0.86826347,\n",
       "        0.88622754, 0.8742515 , 0.86826347, 0.86826347, 0.86826347,\n",
       "        0.85628743, 0.85628743, 0.85628743, 0.85628743, 0.85628743,\n",
       "        0.8502994 , 0.84431138, 0.8502994 , 0.83832335]),\n",
       " 'split1_test_score': array([0.88023952, 0.88023952, 0.86826347, 0.8742515 , 0.88622754,\n",
       "        0.86826347, 0.86826347, 0.86826347, 0.86826347, 0.8742515 ,\n",
       "        0.88023952, 0.88622754, 0.8742515 , 0.86826347, 0.86826347,\n",
       "        0.86826347, 0.86826347, 0.86826347, 0.8742515 ]),\n",
       " 'split2_test_score': array([0.8502994 , 0.85628743, 0.85628743, 0.86826347, 0.88023952,\n",
       "        0.8742515 , 0.89221557, 0.88622754, 0.88622754, 0.88622754,\n",
       "        0.88023952, 0.88023952, 0.8742515 , 0.8742515 , 0.86826347,\n",
       "        0.85628743, 0.8502994 , 0.86227545, 0.8742515 ]),\n",
       " 'split3_test_score': array([0.88622754, 0.89221557, 0.88622754, 0.88622754, 0.89221557,\n",
       "        0.8742515 , 0.8742515 , 0.88622754, 0.88622754, 0.88622754,\n",
       "        0.88023952, 0.88622754, 0.88622754, 0.88622754, 0.89221557,\n",
       "        0.88622754, 0.88622754, 0.89221557, 0.88622754]),\n",
       " 'split4_test_score': array([0.86826347, 0.88023952, 0.86826347, 0.88023952, 0.86826347,\n",
       "        0.85628743, 0.86227545, 0.85628743, 0.85628743, 0.85628743,\n",
       "        0.86227545, 0.8502994 , 0.85628743, 0.8502994 , 0.8502994 ,\n",
       "        0.8502994 , 0.8502994 , 0.8502994 , 0.8502994 ]),\n",
       " 'mean_test_score': array([0.87065868, 0.8754491 , 0.86826347, 0.8742515 , 0.87904192,\n",
       "        0.87185629, 0.8742515 , 0.87305389, 0.87305389, 0.8742515 ,\n",
       "        0.87185629, 0.87185629, 0.86946108, 0.86706587, 0.86706587,\n",
       "        0.86227545, 0.85988024, 0.86467066, 0.86467066]),\n",
       " 'std_test_score': array([0.0123301 , 0.01221322, 0.01001988, 0.00846834, 0.00958084,\n",
       "        0.00972939, 0.01001988, 0.01161121, 0.01161121, 0.01136148,\n",
       "        0.01044048, 0.01543006, 0.01161121, 0.01278692, 0.01437126,\n",
       "        0.0136548 , 0.01543006, 0.01543006, 0.01760112]),\n",
       " 'rank_test_score': array([11,  2, 13,  3,  1,  8,  3,  6,  6,  5,  8,  8, 12, 14, 14, 18, 19,\n",
       "        16, 16])}"
      ]
     },
     "execution_count": 89,
     "metadata": {},
     "output_type": "execute_result"
    }
   ],
   "source": [
    "grid_ada.cv_results_"
   ]
  },
  {
   "cell_type": "code",
   "execution_count": 83,
   "metadata": {},
   "outputs": [
    {
     "name": "stdout",
     "output_type": "stream",
     "text": [
      "mean_test_score  :  [0.87065868 0.8754491  0.86826347 0.8742515  0.87904192 0.87185629\n",
      " 0.8742515  0.87305389 0.87305389 0.8742515  0.87185629 0.87185629\n",
      " 0.86946108 0.86706587 0.86706587 0.86227545 0.85988024 0.86467066\n",
      " 0.86467066]\n",
      "std_test_score  :  [0.0123301  0.01221322 0.01001988 0.00846834 0.00958084 0.00972939\n",
      " 0.01001988 0.01161121 0.01161121 0.01136148 0.01044048 0.01543006\n",
      " 0.01161121 0.01278692 0.01437126 0.0136548  0.01543006 0.01543006\n",
      " 0.01760112]\n",
      "param_n_estimators  :  [20 25 30 35 40 45 50 55 60 65 70 75 80 85 90 95 100 110 120]\n"
     ]
    }
   ],
   "source": [
    "for i in ['mean_test_score', 'std_test_score', 'param_n_estimators']:\n",
    "        print(i,\" : \",grid_ada.cv_results_[i])"
   ]
  },
  {
   "cell_type": "code",
   "execution_count": 88,
   "metadata": {},
   "outputs": [],
   "source": [
    "# sorted(grid_ada.grid_scores_, key=lambda x: x[1], reverse=True)"
   ]
  },
  {
   "cell_type": "code",
   "execution_count": 90,
   "metadata": {},
   "outputs": [
    {
     "name": "stdout",
     "output_type": "stream",
     "text": [
      "40 0.9138755980861244\n",
      "25 0.8995215311004785\n",
      "35 0.9138755980861244\n",
      "50 0.9138755980861244\n"
     ]
    }
   ],
   "source": [
    "best_parameters = [40, 25, 35, 50]\n",
    "for parameter in best_parameters:\n",
    "    ada = AdaBoostClassifier(n_estimators=parameter, random_state=RANDOM_SEED)\n",
    "    ada.fit(X_train, y_train)\n",
    "    print(parameter, accuracy_score(y_test, ada.predict(X_test)))"
   ]
  },
  {
   "cell_type": "markdown",
   "metadata": {},
   "source": [
    "# 5 Какой из классификаторов оказался лучше?"
   ]
  },
  {
   "cell_type": "markdown",
   "metadata": {},
   "source": [
    "Видно, что лучше всех рассмотренных классификаторов с задачей справился AdaBoost с параметром n_estimators=40: accuracy на тестовой выборке составило 0.914."
   ]
  }
 ],
 "metadata": {
  "anaconda-cloud": {},
  "kernelspec": {
   "display_name": "Python 3 (ipykernel)",
   "language": "python",
   "name": "python3"
  },
  "language_info": {
   "codemirror_mode": {
    "name": "ipython",
    "version": 3
   },
   "file_extension": ".py",
   "mimetype": "text/x-python",
   "name": "python",
   "nbconvert_exporter": "python",
   "pygments_lexer": "ipython3",
   "version": "3.7.3"
  },
  "nav_menu": {},
  "toc": {
   "navigate_menu": true,
   "number_sections": false,
   "sideBar": true,
   "threshold": 6,
   "toc_cell": false,
   "toc_section_display": "block",
   "toc_window_display": true
  }
 },
 "nbformat": 4,
 "nbformat_minor": 1
}
