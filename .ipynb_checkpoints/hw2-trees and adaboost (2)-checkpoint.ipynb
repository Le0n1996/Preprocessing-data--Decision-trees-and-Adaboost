{
 "cells": [
  {
   "cell_type": "markdown",
   "metadata": {},
   "source": [
    "# Домашняя работа 2"
   ]
  },
  {
   "cell_type": "markdown",
   "metadata": {},
   "source": [
    "**Срок сдачи:** 23 октября 2016, 23:59 <br\\>\n",
    "\n",
    "При отправлении ДЗ на почту указывайте фамилию в названии файла, а тему письма оформляйте в следующем формате: <br\\>\n",
    "** [ИАД] *{Фамилия}* *{Имя}* ДЗ*{Номер}* **<br\\>\n",
    "\n",
    "\n",
    "Сопровождайте ваш код изображеними, комментариями и выводами. <br\\>\n",
    "Иммейте ввиду, что на некоторые задачи нет единственного верного и полного ответа. Чем больше информации вы сможете извлечь, аргументированных выводов сформулировать, тем лучше.\n",
    "\n",
    "Используйте данный Ipython Notebook при оформлении домашнего задания."
   ]
  },
  {
   "cell_type": "markdown",
   "metadata": {},
   "source": [
    "# Table of Contents\n",
    " <p><div class=\"lev1 toc-item\"><a href=\"#Домашняя-работа-2\" data-toc-modified-id=\"Домашняя-работа-2-1\"><span class=\"toc-item-num\">1&nbsp;&nbsp;</span>Домашняя работа 2</a></div><div class=\"lev2 toc-item\"><a href=\"#Работа-с-данными-(4-балла)\" data-toc-modified-id=\"Работа-с-данными-(4-балла)-1.1\"><span class=\"toc-item-num\">1.1&nbsp;&nbsp;</span>Работа с данными (4 балла)</a></div><div class=\"lev2 toc-item\"><a href=\"#Классификация-(6-баллов)\" data-toc-modified-id=\"Классификация-(6-баллов)-1.2\"><span class=\"toc-item-num\">1.2&nbsp;&nbsp;</span>Классификация (6 баллов)</a></div><div class=\"lev3 toc-item\"><a href=\"#Предписания\" data-toc-modified-id=\"Предписания-1.2.1\"><span class=\"toc-item-num\">1.2.1&nbsp;&nbsp;</span>Предписания</a></div><div class=\"lev3 toc-item\"><a href=\"#Задание\" data-toc-modified-id=\"Задание-1.2.2\"><span class=\"toc-item-num\">1.2.2&nbsp;&nbsp;</span>Задание</a></div>"
   ]
  },
  {
   "cell_type": "code",
   "execution_count": 688,
   "metadata": {
    "collapsed": true
   },
   "outputs": [],
   "source": [
    "import numpy as np\n",
    "import pandas as pd\n",
    "import matplotlib.pyplot as plt\n",
    "\n",
    "%matplotlib inline\n",
    "\n",
    "plt.style.use('ggplot')\n",
    "plt.rcParams['figure.figsize'] = (15, 6)"
   ]
  },
  {
   "cell_type": "markdown",
   "metadata": {},
   "source": [
    "Прочтите статью [\"USING\tDATA\tMINING\tTO\tPREDICT\tSECONDARY SCHOOL\tSTUDENT\tALCOHOL\tCONSUMPTION\"](https://www.dropbox.com/s/ww4h9ivnkbyy9xw/STUDENT%20ALCOHOL%20CONSUMPTION%20%281%29.pdf?dl=0).<br\\>\n",
    "Загрузите [датасет](https://archive.ics.uci.edu/ml/datasets/STUDENT+ALCOHOL+CONSUMPTION#), используемый в статье и выполните следующие задания:"
   ]
  },
  {
   "cell_type": "markdown",
   "metadata": {},
   "source": [
    "## Работа с данными (4 балла)\n",
    "1. Приведите описание признаков датасета на русском языке с указанием типа данных (2 балла)\n",
    "2. Описание предобработки данных (2 балла)\n",
    "    - Проверьте наличие пропусков. В случае наличия пропусков заполните их медианными значениями (1 балл)\n",
    "    - Преобразуйте все номинальные признаки в несколько признаков с бинарным значением (1 балл)"
   ]
  },
  {
   "cell_type": "code",
   "execution_count": 691,
   "metadata": {
    "collapsed": true
   },
   "outputs": [],
   "source": [
    "import zipfile"
   ]
  },
  {
   "cell_type": "code",
   "execution_count": 692,
   "metadata": {},
   "outputs": [
    {
     "data": {
      "text/plain": [
       "(395, 33)"
      ]
     },
     "execution_count": 692,
     "metadata": {},
     "output_type": "execute_result"
    }
   ],
   "source": [
    "student_mat_data = pd.read_csv(zipfile.ZipFile('student.zip').open('student-mat.csv'), delimiter=';')\n",
    "student_mat_data.shape"
   ]
  },
  {
   "cell_type": "code",
   "execution_count": 693,
   "metadata": {},
   "outputs": [
    {
     "data": {
      "text/plain": [
       "(649, 33)"
      ]
     },
     "execution_count": 693,
     "metadata": {},
     "output_type": "execute_result"
    }
   ],
   "source": [
    "student_por_data = pd.read_csv(zipfile.ZipFile('student.zip').open('student-por.csv'), delimiter=';')\n",
    "student_por_data.shape"
   ]
  },
  {
   "cell_type": "code",
   "execution_count": 694,
   "metadata": {},
   "outputs": [
    {
     "data": {
      "text/plain": [
       "(1044, 33)"
      ]
     },
     "execution_count": 694,
     "metadata": {},
     "output_type": "execute_result"
    }
   ],
   "source": [
    "data = pd.concat([student_mat_data, student_por_data], ignore_index=True)\n",
    "data.shape"
   ]
  },
  {
   "cell_type": "code",
   "execution_count": 695,
   "metadata": {},
   "outputs": [
    {
     "data": {
      "text/html": [
       "<div>\n",
       "<table border=\"1\" class=\"dataframe\">\n",
       "  <thead>\n",
       "    <tr style=\"text-align: right;\">\n",
       "      <th></th>\n",
       "      <th>school</th>\n",
       "      <th>sex</th>\n",
       "      <th>age</th>\n",
       "      <th>address</th>\n",
       "      <th>famsize</th>\n",
       "      <th>Pstatus</th>\n",
       "      <th>Medu</th>\n",
       "      <th>Fedu</th>\n",
       "      <th>Mjob</th>\n",
       "      <th>Fjob</th>\n",
       "      <th>...</th>\n",
       "      <th>famrel</th>\n",
       "      <th>freetime</th>\n",
       "      <th>goout</th>\n",
       "      <th>Dalc</th>\n",
       "      <th>Walc</th>\n",
       "      <th>health</th>\n",
       "      <th>absences</th>\n",
       "      <th>G1</th>\n",
       "      <th>G2</th>\n",
       "      <th>G3</th>\n",
       "    </tr>\n",
       "  </thead>\n",
       "  <tbody>\n",
       "    <tr>\n",
       "      <th>1039</th>\n",
       "      <td>MS</td>\n",
       "      <td>F</td>\n",
       "      <td>19</td>\n",
       "      <td>R</td>\n",
       "      <td>GT3</td>\n",
       "      <td>T</td>\n",
       "      <td>2</td>\n",
       "      <td>3</td>\n",
       "      <td>services</td>\n",
       "      <td>other</td>\n",
       "      <td>...</td>\n",
       "      <td>5</td>\n",
       "      <td>4</td>\n",
       "      <td>2</td>\n",
       "      <td>1</td>\n",
       "      <td>2</td>\n",
       "      <td>5</td>\n",
       "      <td>4</td>\n",
       "      <td>10</td>\n",
       "      <td>11</td>\n",
       "      <td>10</td>\n",
       "    </tr>\n",
       "    <tr>\n",
       "      <th>1040</th>\n",
       "      <td>MS</td>\n",
       "      <td>F</td>\n",
       "      <td>18</td>\n",
       "      <td>U</td>\n",
       "      <td>LE3</td>\n",
       "      <td>T</td>\n",
       "      <td>3</td>\n",
       "      <td>1</td>\n",
       "      <td>teacher</td>\n",
       "      <td>services</td>\n",
       "      <td>...</td>\n",
       "      <td>4</td>\n",
       "      <td>3</td>\n",
       "      <td>4</td>\n",
       "      <td>1</td>\n",
       "      <td>1</td>\n",
       "      <td>1</td>\n",
       "      <td>4</td>\n",
       "      <td>15</td>\n",
       "      <td>15</td>\n",
       "      <td>16</td>\n",
       "    </tr>\n",
       "    <tr>\n",
       "      <th>1041</th>\n",
       "      <td>MS</td>\n",
       "      <td>F</td>\n",
       "      <td>18</td>\n",
       "      <td>U</td>\n",
       "      <td>GT3</td>\n",
       "      <td>T</td>\n",
       "      <td>1</td>\n",
       "      <td>1</td>\n",
       "      <td>other</td>\n",
       "      <td>other</td>\n",
       "      <td>...</td>\n",
       "      <td>1</td>\n",
       "      <td>1</td>\n",
       "      <td>1</td>\n",
       "      <td>1</td>\n",
       "      <td>1</td>\n",
       "      <td>5</td>\n",
       "      <td>6</td>\n",
       "      <td>11</td>\n",
       "      <td>12</td>\n",
       "      <td>9</td>\n",
       "    </tr>\n",
       "    <tr>\n",
       "      <th>1042</th>\n",
       "      <td>MS</td>\n",
       "      <td>M</td>\n",
       "      <td>17</td>\n",
       "      <td>U</td>\n",
       "      <td>LE3</td>\n",
       "      <td>T</td>\n",
       "      <td>3</td>\n",
       "      <td>1</td>\n",
       "      <td>services</td>\n",
       "      <td>services</td>\n",
       "      <td>...</td>\n",
       "      <td>2</td>\n",
       "      <td>4</td>\n",
       "      <td>5</td>\n",
       "      <td>3</td>\n",
       "      <td>4</td>\n",
       "      <td>2</td>\n",
       "      <td>6</td>\n",
       "      <td>10</td>\n",
       "      <td>10</td>\n",
       "      <td>10</td>\n",
       "    </tr>\n",
       "    <tr>\n",
       "      <th>1043</th>\n",
       "      <td>MS</td>\n",
       "      <td>M</td>\n",
       "      <td>18</td>\n",
       "      <td>R</td>\n",
       "      <td>LE3</td>\n",
       "      <td>T</td>\n",
       "      <td>3</td>\n",
       "      <td>2</td>\n",
       "      <td>services</td>\n",
       "      <td>other</td>\n",
       "      <td>...</td>\n",
       "      <td>4</td>\n",
       "      <td>4</td>\n",
       "      <td>1</td>\n",
       "      <td>3</td>\n",
       "      <td>4</td>\n",
       "      <td>5</td>\n",
       "      <td>4</td>\n",
       "      <td>10</td>\n",
       "      <td>11</td>\n",
       "      <td>11</td>\n",
       "    </tr>\n",
       "  </tbody>\n",
       "</table>\n",
       "<p>5 rows × 33 columns</p>\n",
       "</div>"
      ],
      "text/plain": [
       "     school sex  age address famsize Pstatus  Medu  Fedu      Mjob      Fjob  \\\n",
       "1039     MS   F   19       R     GT3       T     2     3  services     other   \n",
       "1040     MS   F   18       U     LE3       T     3     1   teacher  services   \n",
       "1041     MS   F   18       U     GT3       T     1     1     other     other   \n",
       "1042     MS   M   17       U     LE3       T     3     1  services  services   \n",
       "1043     MS   M   18       R     LE3       T     3     2  services     other   \n",
       "\n",
       "     ... famrel freetime  goout  Dalc  Walc health absences  G1  G2  G3  \n",
       "1039 ...      5        4      2     1     2      5        4  10  11  10  \n",
       "1040 ...      4        3      4     1     1      1        4  15  15  16  \n",
       "1041 ...      1        1      1     1     1      5        6  11  12   9  \n",
       "1042 ...      2        4      5     3     4      2        6  10  10  10  \n",
       "1043 ...      4        4      1     3     4      5        4  10  11  11  \n",
       "\n",
       "[5 rows x 33 columns]"
      ]
     },
     "execution_count": 695,
     "metadata": {},
     "output_type": "execute_result"
    }
   ],
   "source": [
    "data.tail()"
   ]
  },
  {
   "cell_type": "code",
   "execution_count": 696,
   "metadata": {},
   "outputs": [
    {
     "data": {
      "text/plain": [
       "Index(['school', 'sex', 'age', 'address', 'famsize', 'Pstatus', 'Medu', 'Fedu',\n",
       "       'Mjob', 'Fjob', 'reason', 'guardian', 'traveltime', 'studytime',\n",
       "       'failures', 'schoolsup', 'famsup', 'paid', 'activities', 'nursery',\n",
       "       'higher', 'internet', 'romantic', 'famrel', 'freetime', 'goout', 'Dalc',\n",
       "       'Walc', 'health', 'absences', 'G1', 'G2', 'G3'],\n",
       "      dtype='object')"
      ]
     },
     "execution_count": 696,
     "metadata": {},
     "output_type": "execute_result"
    }
   ],
   "source": [
    "data.columns"
   ]
  },
  {
   "cell_type": "markdown",
   "metadata": {},
   "source": [
    "*Уберем некоторые признаки в соответствии с вышеприведенной статьей:*"
   ]
  },
  {
   "cell_type": "code",
   "execution_count": 697,
   "metadata": {
    "scrolled": true
   },
   "outputs": [
    {
     "data": {
      "text/plain": [
       "Index(['school', 'sex', 'age', 'address', 'Pstatus', 'Medu', 'Mjob',\n",
       "       'traveltime', 'studytime', 'failures', 'schoolsup', 'famsup', 'paid',\n",
       "       'activities', 'nursery', 'higher', 'internet', 'romantic', 'freetime',\n",
       "       'goout', 'Dalc', 'Walc', 'health', 'absences', 'G1', 'G2', 'G3'],\n",
       "      dtype='object')"
      ]
     },
     "execution_count": 697,
     "metadata": {},
     "output_type": "execute_result"
    }
   ],
   "source": [
    "data = data.drop(['famsize', 'Fedu', 'Fjob', 'reason', 'guardian', 'famrel'], axis=1)\n",
    "data.columns"
   ]
  },
  {
   "cell_type": "markdown",
   "metadata": {},
   "source": [
    "*Из двух столбцов Dalc и Walc сделаем один alc по формуле из той же статьи:*\n",
    "\n",
    "$$\n",
    "alc = \\frac{Walc \\times 2 + Dalc \\times 5}{7}\n",
    "$$"
   ]
  },
  {
   "cell_type": "code",
   "execution_count": 698,
   "metadata": {},
   "outputs": [
    {
     "data": {
      "text/plain": [
       "1039    1\n",
       "1040    1\n",
       "1041    1\n",
       "1042    3\n",
       "1043    3\n",
       "Name: Dalc, dtype: int64"
      ]
     },
     "execution_count": 698,
     "metadata": {},
     "output_type": "execute_result"
    }
   ],
   "source": [
    "data.Dalc[-5:]"
   ]
  },
  {
   "cell_type": "code",
   "execution_count": 699,
   "metadata": {},
   "outputs": [
    {
     "data": {
      "text/plain": [
       "1039    2\n",
       "1040    1\n",
       "1041    1\n",
       "1042    4\n",
       "1043    4\n",
       "Name: Walc, dtype: int64"
      ]
     },
     "execution_count": 699,
     "metadata": {},
     "output_type": "execute_result"
    }
   ],
   "source": [
    "data.Walc[-5:]"
   ]
  },
  {
   "cell_type": "code",
   "execution_count": 700,
   "metadata": {},
   "outputs": [
    {
     "data": {
      "text/plain": [
       "1039    1.285714\n",
       "1040    1.000000\n",
       "1041    1.000000\n",
       "1042    3.285714\n",
       "1043    3.285714\n",
       "dtype: float64"
      ]
     },
     "execution_count": 700,
     "metadata": {},
     "output_type": "execute_result"
    }
   ],
   "source": [
    "alc = ((data.Walc * 2 + data.Dalc * 5) / 7)\n",
    "alc[-5:]"
   ]
  },
  {
   "cell_type": "markdown",
   "metadata": {},
   "source": [
    "*Мы будем решать задачу бинарной классификации, поэтому, опять воспользовавшись статьей, преобразуем столбец alc в новый столбец Alc, причем значение 0 в столбце Alc будет соответствовать значению меньше 3 в столбце alc, 1 - не меньше:*"
   ]
  },
  {
   "cell_type": "code",
   "execution_count": 701,
   "metadata": {},
   "outputs": [
    {
     "data": {
      "text/html": [
       "<div>\n",
       "<table border=\"1\" class=\"dataframe\">\n",
       "  <thead>\n",
       "    <tr style=\"text-align: right;\">\n",
       "      <th></th>\n",
       "      <th>Alc</th>\n",
       "    </tr>\n",
       "  </thead>\n",
       "  <tbody>\n",
       "    <tr>\n",
       "      <th>1039</th>\n",
       "      <td>0</td>\n",
       "    </tr>\n",
       "    <tr>\n",
       "      <th>1040</th>\n",
       "      <td>0</td>\n",
       "    </tr>\n",
       "    <tr>\n",
       "      <th>1041</th>\n",
       "      <td>0</td>\n",
       "    </tr>\n",
       "    <tr>\n",
       "      <th>1042</th>\n",
       "      <td>1</td>\n",
       "    </tr>\n",
       "    <tr>\n",
       "      <th>1043</th>\n",
       "      <td>1</td>\n",
       "    </tr>\n",
       "  </tbody>\n",
       "</table>\n",
       "</div>"
      ],
      "text/plain": [
       "      Alc\n",
       "1039    0\n",
       "1040    0\n",
       "1041    0\n",
       "1042    1\n",
       "1043    1"
      ]
     },
     "execution_count": 701,
     "metadata": {},
     "output_type": "execute_result"
    }
   ],
   "source": [
    "Alc = pd.DataFrame({'Alc': (alc >= 3).astype(int)})\n",
    "Alc[-5:]"
   ]
  },
  {
   "cell_type": "markdown",
   "metadata": {},
   "source": [
    "*Наконец можно убрать столбцы Walc и Dalc из исходной таблицы и добавить новый столбец Alc:*"
   ]
  },
  {
   "cell_type": "code",
   "execution_count": 702,
   "metadata": {},
   "outputs": [
    {
     "data": {
      "text/plain": [
       "Index(['school', 'sex', 'age', 'address', 'Pstatus', 'Medu', 'Mjob',\n",
       "       'traveltime', 'studytime', 'failures', 'schoolsup', 'famsup', 'paid',\n",
       "       'activities', 'nursery', 'higher', 'internet', 'romantic', 'freetime',\n",
       "       'goout', 'health', 'absences', 'G1', 'G2', 'G3', 'Alc'],\n",
       "      dtype='object')"
      ]
     },
     "execution_count": 702,
     "metadata": {},
     "output_type": "execute_result"
    }
   ],
   "source": [
    "data = data.join(Alc)\n",
    "data = data.drop(['Walc', 'Dalc'], axis=1)\n",
    "data.columns"
   ]
  },
  {
   "cell_type": "markdown",
   "metadata": {},
   "source": [
    "*В соответствии с таблицей 1 на странице 3 статьи можно привести следующее описание признаков:*\n",
    "\n",
    "- sex: пол студента (бинарный: женский или мужской)\n",
    "- age: возраст студента (числовой: от 15 до 22)\n",
    "- school: школа студента (бинарный: Gabriel Pereira или Mousinho da Silveira)\n",
    "- address: тип домашнего адреса студента (бинарный: городской или сельский)\n",
    "- Pstatus: тип отношений родителей (бинарный: живут вместе или раздельно)\n",
    "- Medu: образование матери (числовой: 0 - никакого,  1 - начальное образование (4 класса), 2 – от 5 до 9 классов, 3 – среднее специальное или 4 – высшее)\n",
    "- Mjob: работа матери (номинальный: учитель, связанная со здоровьем, городская служба (например, в администрации или в полиции), дома или другое)\n",
    "- traveltime: время от дома до школы (числовой: 1 - меньше 15 минут, 2 - от 15 до 30 минут, 3 - от 30 минут до 1 часа или 4 - больше 1 часа)\n",
    "- studytime: количество часов обучения в неделю (числовой: 1 - меньше 2 часов, 2 - от 2 до 5 часов, 3 - от 5 до 10 часов или 4 - больше 10 часов)\n",
    "- failures: количество ранее не сданных предметов (числовой: 1 - один предмет, 2 - два предмета или 4 - в ином случае)\n",
    "- schoolsup: дополнительные занятия (бинарный: да или нет)\n",
    "- famsup: помощь семьи прри выполнении учебных заданий (бинарный: да или нет)\n",
    "- activities: внеучебная активность (бинарный: да или нет)\n",
    "- paidclass: дополнительные платные занятия (бинарный: да или нет)\n",
    "- nursery: посещение детского сада ранее (бинарный: да или нет)\n",
    "- higher: желание получить высшее образование (бинарный: да или нет)\n",
    "- romantic: наличие романтических отношений (бинарный: да или нет)\n",
    "- freetime: свободное время после школы (числовой: от 1 - очень мало - до 5 - очень много)\n",
    "- goout: время, проведенное на гуляниях с друзьями (числовой: от 1 - очень мало - до 5 - очень много)\n",
    "- health: текущее состояние здоровья (числовой: от 1 - очень плохое - до 5 - очень хорошее)\n",
    "- absences: количество школьных пропусков (числовой: от 0 до 93)\n",
    "- G1: оценка за первый семестр (числовой: от 0 до 20)\n",
    "- G2: оценка за второй семестр (числовой: от 0 до 20)\n",
    "- G3: итоговая оценка (числовой: от 0 до 20)\n",
    "- Alc: наличие алкоголизма (бинарный: да или нет)"
   ]
  },
  {
   "cell_type": "markdown",
   "metadata": {},
   "source": [
    "*Проверим наличие пропусков:*"
   ]
  },
  {
   "cell_type": "code",
   "execution_count": 703,
   "metadata": {},
   "outputs": [
    {
     "data": {
      "text/plain": [
       "False"
      ]
     },
     "execution_count": 703,
     "metadata": {},
     "output_type": "execute_result"
    }
   ],
   "source": [
    "data.isnull().any().any()"
   ]
  },
  {
   "cell_type": "markdown",
   "metadata": {},
   "source": [
    "*Как видно, пропусков в данных нет. Ну и хорошо.*"
   ]
  },
  {
   "cell_type": "markdown",
   "metadata": {},
   "source": [
    "*Из описания признаков видно, что у нас всего один номинальный признак: Mjob. Посмотрим, какие значения он принимает, и в соответствии с этим разобьем его на бинарные признаки:*"
   ]
  },
  {
   "cell_type": "code",
   "execution_count": 704,
   "metadata": {},
   "outputs": [
    {
     "data": {
      "text/plain": [
       "array(['at_home', 'health', 'other', 'services', 'teacher'], dtype=object)"
      ]
     },
     "execution_count": 704,
     "metadata": {},
     "output_type": "execute_result"
    }
   ],
   "source": [
    "data.Mjob.unique()"
   ]
  },
  {
   "cell_type": "code",
   "execution_count": 705,
   "metadata": {},
   "outputs": [
    {
     "data": {
      "text/plain": [
       "Index(['school', 'sex', 'age', 'address', 'Pstatus', 'Medu', 'Mjob',\n",
       "       'traveltime', 'studytime', 'failures', 'schoolsup', 'famsup', 'paid',\n",
       "       'activities', 'nursery', 'higher', 'internet', 'romantic', 'freetime',\n",
       "       'goout', 'health_stud', 'absences', 'G1', 'G2', 'G3', 'Alc'],\n",
       "      dtype='object')"
      ]
     },
     "execution_count": 705,
     "metadata": {},
     "output_type": "execute_result"
    }
   ],
   "source": [
    "# Переименуем признак health, отвечающий за текущее состояние здоровья, дабы избежать путаницы\n",
    "data = data.rename(columns={'health':'health_stud'})\n",
    "data.columns"
   ]
  },
  {
   "cell_type": "code",
   "execution_count": 706,
   "metadata": {},
   "outputs": [
    {
     "data": {
      "text/plain": [
       "0    at_home\n",
       "1    at_home\n",
       "2    at_home\n",
       "3     health\n",
       "4      other\n",
       "Name: Mjob, dtype: object"
      ]
     },
     "execution_count": 706,
     "metadata": {},
     "output_type": "execute_result"
    }
   ],
   "source": [
    "data.Mjob[:5]"
   ]
  },
  {
   "cell_type": "code",
   "execution_count": 707,
   "metadata": {},
   "outputs": [
    {
     "data": {
      "text/html": [
       "<div>\n",
       "<table border=\"1\" class=\"dataframe\">\n",
       "  <thead>\n",
       "    <tr style=\"text-align: right;\">\n",
       "      <th></th>\n",
       "      <th>at_home</th>\n",
       "      <th>health</th>\n",
       "      <th>other</th>\n",
       "      <th>services</th>\n",
       "      <th>teacher</th>\n",
       "    </tr>\n",
       "  </thead>\n",
       "  <tbody>\n",
       "    <tr>\n",
       "      <th>0</th>\n",
       "      <td>1</td>\n",
       "      <td>0</td>\n",
       "      <td>0</td>\n",
       "      <td>0</td>\n",
       "      <td>0</td>\n",
       "    </tr>\n",
       "    <tr>\n",
       "      <th>1</th>\n",
       "      <td>1</td>\n",
       "      <td>0</td>\n",
       "      <td>0</td>\n",
       "      <td>0</td>\n",
       "      <td>0</td>\n",
       "    </tr>\n",
       "    <tr>\n",
       "      <th>2</th>\n",
       "      <td>1</td>\n",
       "      <td>0</td>\n",
       "      <td>0</td>\n",
       "      <td>0</td>\n",
       "      <td>0</td>\n",
       "    </tr>\n",
       "    <tr>\n",
       "      <th>3</th>\n",
       "      <td>0</td>\n",
       "      <td>1</td>\n",
       "      <td>0</td>\n",
       "      <td>0</td>\n",
       "      <td>0</td>\n",
       "    </tr>\n",
       "    <tr>\n",
       "      <th>4</th>\n",
       "      <td>0</td>\n",
       "      <td>0</td>\n",
       "      <td>1</td>\n",
       "      <td>0</td>\n",
       "      <td>0</td>\n",
       "    </tr>\n",
       "  </tbody>\n",
       "</table>\n",
       "</div>"
      ],
      "text/plain": [
       "   at_home  health  other  services  teacher\n",
       "0        1       0      0         0        0\n",
       "1        1       0      0         0        0\n",
       "2        1       0      0         0        0\n",
       "3        0       1      0         0        0\n",
       "4        0       0      1         0        0"
      ]
     },
     "execution_count": 707,
     "metadata": {},
     "output_type": "execute_result"
    }
   ],
   "source": [
    "Mjob_multiple = pd.get_dummies(data.Mjob)\n",
    "Mjob_multiple[:5]"
   ]
  },
  {
   "cell_type": "code",
   "execution_count": 708,
   "metadata": {},
   "outputs": [
    {
     "data": {
      "text/plain": [
       "Index(['school', 'sex', 'age', 'address', 'Pstatus', 'Medu', 'traveltime',\n",
       "       'studytime', 'failures', 'schoolsup', 'famsup', 'paid', 'activities',\n",
       "       'nursery', 'higher', 'internet', 'romantic', 'freetime', 'goout',\n",
       "       'health_stud', 'absences', 'G1', 'G2', 'G3', 'Alc', 'at_home', 'health',\n",
       "       'other', 'services', 'teacher'],\n",
       "      dtype='object')"
      ]
     },
     "execution_count": 708,
     "metadata": {},
     "output_type": "execute_result"
    }
   ],
   "source": [
    "data = data.drop(['Mjob'], axis=1)\n",
    "data = pd.concat([data, Mjob_multiple], axis=1)\n",
    "data.columns"
   ]
  },
  {
   "cell_type": "markdown",
   "metadata": {},
   "source": [
    "*Теперь переведем значения бинарных признаков в 0 и 1, воспользовавшись тем, что мы уже обработали единственный номинальный признак, и остались только бинарные и числовые:*"
   ]
  },
  {
   "cell_type": "code",
   "execution_count": 709,
   "metadata": {},
   "outputs": [
    {
     "data": {
      "text/plain": [
       "['school',\n",
       " 'sex',\n",
       " 'address',\n",
       " 'Pstatus',\n",
       " 'schoolsup',\n",
       " 'famsup',\n",
       " 'paid',\n",
       " 'activities',\n",
       " 'nursery',\n",
       " 'higher',\n",
       " 'internet',\n",
       " 'romantic']"
      ]
     },
     "execution_count": 709,
     "metadata": {},
     "output_type": "execute_result"
    }
   ],
   "source": [
    "binary_features = [feature for feature in data.columns if data[feature].dtype.name == 'object']\n",
    "binary_features"
   ]
  },
  {
   "cell_type": "code",
   "execution_count": 710,
   "metadata": {},
   "outputs": [
    {
     "data": {
      "text/html": [
       "<div>\n",
       "<table border=\"1\" class=\"dataframe\">\n",
       "  <thead>\n",
       "    <tr style=\"text-align: right;\">\n",
       "      <th></th>\n",
       "      <th>school</th>\n",
       "      <th>sex</th>\n",
       "      <th>address</th>\n",
       "      <th>Pstatus</th>\n",
       "      <th>schoolsup</th>\n",
       "      <th>famsup</th>\n",
       "      <th>paid</th>\n",
       "      <th>activities</th>\n",
       "      <th>nursery</th>\n",
       "      <th>higher</th>\n",
       "      <th>internet</th>\n",
       "      <th>romantic</th>\n",
       "    </tr>\n",
       "  </thead>\n",
       "  <tbody>\n",
       "    <tr>\n",
       "      <th>count</th>\n",
       "      <td>1044</td>\n",
       "      <td>1044</td>\n",
       "      <td>1044</td>\n",
       "      <td>1044</td>\n",
       "      <td>1044</td>\n",
       "      <td>1044</td>\n",
       "      <td>1044</td>\n",
       "      <td>1044</td>\n",
       "      <td>1044</td>\n",
       "      <td>1044</td>\n",
       "      <td>1044</td>\n",
       "      <td>1044</td>\n",
       "    </tr>\n",
       "    <tr>\n",
       "      <th>unique</th>\n",
       "      <td>2</td>\n",
       "      <td>2</td>\n",
       "      <td>2</td>\n",
       "      <td>2</td>\n",
       "      <td>2</td>\n",
       "      <td>2</td>\n",
       "      <td>2</td>\n",
       "      <td>2</td>\n",
       "      <td>2</td>\n",
       "      <td>2</td>\n",
       "      <td>2</td>\n",
       "      <td>2</td>\n",
       "    </tr>\n",
       "    <tr>\n",
       "      <th>top</th>\n",
       "      <td>GP</td>\n",
       "      <td>F</td>\n",
       "      <td>U</td>\n",
       "      <td>T</td>\n",
       "      <td>no</td>\n",
       "      <td>yes</td>\n",
       "      <td>no</td>\n",
       "      <td>no</td>\n",
       "      <td>yes</td>\n",
       "      <td>yes</td>\n",
       "      <td>yes</td>\n",
       "      <td>no</td>\n",
       "    </tr>\n",
       "    <tr>\n",
       "      <th>freq</th>\n",
       "      <td>772</td>\n",
       "      <td>591</td>\n",
       "      <td>759</td>\n",
       "      <td>923</td>\n",
       "      <td>925</td>\n",
       "      <td>640</td>\n",
       "      <td>824</td>\n",
       "      <td>528</td>\n",
       "      <td>835</td>\n",
       "      <td>955</td>\n",
       "      <td>827</td>\n",
       "      <td>673</td>\n",
       "    </tr>\n",
       "  </tbody>\n",
       "</table>\n",
       "</div>"
      ],
      "text/plain": [
       "       school   sex address Pstatus schoolsup famsup  paid activities nursery  \\\n",
       "count    1044  1044    1044    1044      1044   1044  1044       1044    1044   \n",
       "unique      2     2       2       2         2      2     2          2       2   \n",
       "top        GP     F       U       T        no    yes    no         no     yes   \n",
       "freq      772   591     759     923       925    640   824        528     835   \n",
       "\n",
       "       higher internet romantic  \n",
       "count    1044     1044     1044  \n",
       "unique      2        2        2  \n",
       "top       yes      yes       no  \n",
       "freq      955      827      673  "
      ]
     },
     "execution_count": 710,
     "metadata": {},
     "output_type": "execute_result"
    }
   ],
   "source": [
    "data[binary_features].describe()"
   ]
  },
  {
   "cell_type": "code",
   "execution_count": 711,
   "metadata": {},
   "outputs": [
    {
     "data": {
      "text/html": [
       "<div>\n",
       "<table border=\"1\" class=\"dataframe\">\n",
       "  <thead>\n",
       "    <tr style=\"text-align: right;\">\n",
       "      <th></th>\n",
       "      <th>school</th>\n",
       "      <th>sex</th>\n",
       "      <th>address</th>\n",
       "      <th>Pstatus</th>\n",
       "      <th>schoolsup</th>\n",
       "      <th>famsup</th>\n",
       "      <th>paid</th>\n",
       "      <th>activities</th>\n",
       "      <th>nursery</th>\n",
       "      <th>higher</th>\n",
       "      <th>internet</th>\n",
       "      <th>romantic</th>\n",
       "    </tr>\n",
       "  </thead>\n",
       "  <tbody>\n",
       "    <tr>\n",
       "      <th>count</th>\n",
       "      <td>1044</td>\n",
       "      <td>1044</td>\n",
       "      <td>1044</td>\n",
       "      <td>1044</td>\n",
       "      <td>1044</td>\n",
       "      <td>1044</td>\n",
       "      <td>1044</td>\n",
       "      <td>1044</td>\n",
       "      <td>1044</td>\n",
       "      <td>1044</td>\n",
       "      <td>1044</td>\n",
       "      <td>1044</td>\n",
       "    </tr>\n",
       "    <tr>\n",
       "      <th>unique</th>\n",
       "      <td>2</td>\n",
       "      <td>2</td>\n",
       "      <td>2</td>\n",
       "      <td>2</td>\n",
       "      <td>2</td>\n",
       "      <td>2</td>\n",
       "      <td>2</td>\n",
       "      <td>2</td>\n",
       "      <td>2</td>\n",
       "      <td>2</td>\n",
       "      <td>2</td>\n",
       "      <td>2</td>\n",
       "    </tr>\n",
       "    <tr>\n",
       "      <th>top</th>\n",
       "      <td>1</td>\n",
       "      <td>1</td>\n",
       "      <td>1</td>\n",
       "      <td>1</td>\n",
       "      <td>1</td>\n",
       "      <td>1</td>\n",
       "      <td>1</td>\n",
       "      <td>1</td>\n",
       "      <td>1</td>\n",
       "      <td>1</td>\n",
       "      <td>1</td>\n",
       "      <td>1</td>\n",
       "    </tr>\n",
       "    <tr>\n",
       "      <th>freq</th>\n",
       "      <td>772</td>\n",
       "      <td>591</td>\n",
       "      <td>759</td>\n",
       "      <td>923</td>\n",
       "      <td>925</td>\n",
       "      <td>640</td>\n",
       "      <td>824</td>\n",
       "      <td>528</td>\n",
       "      <td>835</td>\n",
       "      <td>955</td>\n",
       "      <td>827</td>\n",
       "      <td>673</td>\n",
       "    </tr>\n",
       "  </tbody>\n",
       "</table>\n",
       "</div>"
      ],
      "text/plain": [
       "        school   sex  address  Pstatus  schoolsup  famsup  paid  activities  \\\n",
       "count     1044  1044     1044     1044       1044    1044  1044        1044   \n",
       "unique       2     2        2        2          2       2     2           2   \n",
       "top          1     1        1        1          1       1     1           1   \n",
       "freq       772   591      759      923        925     640   824         528   \n",
       "\n",
       "        nursery  higher  internet  romantic  \n",
       "count      1044    1044      1044      1044  \n",
       "unique        2       2         2         2  \n",
       "top           1       1         1         1  \n",
       "freq        835     955       827       673  "
      ]
     },
     "execution_count": 711,
     "metadata": {},
     "output_type": "execute_result"
    }
   ],
   "source": [
    "for feature in binary_features:\n",
    "    top_value = data[binary_features].describe()[feature]['top']\n",
    "    data.loc[data[feature] != top_value, feature] = 0\n",
    "    data.loc[data[feature] == top_value, feature] = 1\n",
    "data[binary_features].describe()"
   ]
  },
  {
   "cell_type": "markdown",
   "metadata": {},
   "source": [
    "## Классификация (6 баллов)\n",
    "\n",
    "### Предписания\n",
    "- Используйте accuracy как основную меру качества\n",
    "- Классы в задаче несбалансированные. Для корректной кросс-валидации используйте стратифицированный способ разбиения на фолды [Stratified K-fold](http://scikit-learn.org/stable/modules/generated/sklearn.model_selection.StratifiedKFold.html#sklearn.model_selection.StratifiedKFold)\n",
    "\n",
    "### Задание\n",
    "1. Задайте RANDOM_SEED и случайным образом разделите выборку на обучающую и контрольную в пропорции 80/20. Этот же RANDOM_SEED используйте при кросс-валидации (0.5 балла)\n",
    "2. Random Forest (2 балла)\n",
    "    * В статье описано использование Random Forest для предсказания важности фактором вляющих на потребление алкоголя.<br\\>\n",
    "    * Повторите эксперимент с использованием [RandomForest](http://scikit-learn.org/stable/modules/generated/sklearn.ensemble.RandomForestClassifier.html#sklearn.ensemble.RandomForestClassifier) и найдите наилучшие параметры с помощью кросс-валидации. (1 балл)<br\\>\n",
    "    * Изобразите аналогичную таблицу важности признаков для наилучшей настройки метода (значения могут отличаться). (0.5 балла)<br\\>\n",
    "    * Укажите значение accuracy для пяти наилучших настроек метода на контрольной выборке. (0.5 балла)<br\\>\n",
    "\n",
    "3. GradientBoosting (2 балла)\n",
    "    * Обучите [GradientBoostingClassifier](http://scikit-learn.org/stable/modules/generated/sklearn.ensemble.GradientBoostingClassifier.html#sklearn.ensemble.GradientBoostingClassifier)  и найдите для него наилучшие параметры с помощью кросс-валидации. (0.5 балла)<br\\>\n",
    "    * Изобразите таблицу важности признаков для наилучшей настройки метода. Отличается ли она от таблицы метода RandomForest. Почему? (1 балл)<br\\>\n",
    "    * Укажите значение accuracy для пяти наилучших настроек метода. (0.5 балла)<br\\>\n",
    "\n",
    "4. AdaBoost (1 балл)\n",
    "    * Обучите [AdaBoostClassifier](http://scikit-learn.org/stable/modules/generated/sklearn.ensemble.AdaBoostClassifier.html) и найдите для него наилучшие параметры с помощью кросс-валидации. (0.5 балла)<br\\>\n",
    "    * Укажите значение accuracy для пяти наилучших настроек метода. (0.5 балла)<br\\>\n",
    "\n",
    "5. Какой из классификаторов оказался лучше? (0.5 балла)"
   ]
  },
  {
   "cell_type": "code",
   "execution_count": 712,
   "metadata": {
    "collapsed": true
   },
   "outputs": [],
   "source": [
    "from sklearn.metrics import accuracy_score\n",
    "from sklearn.cross_validation import StratifiedKFold"
   ]
  },
  {
   "cell_type": "markdown",
   "metadata": {},
   "source": [
    "# 1 Разбиение выборки"
   ]
  },
  {
   "cell_type": "code",
   "execution_count": 713,
   "metadata": {
    "collapsed": true
   },
   "outputs": [],
   "source": [
    "from sklearn.cross_validation import train_test_split"
   ]
  },
  {
   "cell_type": "code",
   "execution_count": 714,
   "metadata": {},
   "outputs": [],
   "source": [
    "RANDOM_SEED = np.random.seed(13)\n",
    "train, test = train_test_split(data, test_size=0.2, random_state=RANDOM_SEED)"
   ]
  },
  {
   "cell_type": "code",
   "execution_count": 715,
   "metadata": {},
   "outputs": [
    {
     "data": {
      "text/plain": [
       "(835, 30)"
      ]
     },
     "execution_count": 715,
     "metadata": {},
     "output_type": "execute_result"
    }
   ],
   "source": [
    "train.shape"
   ]
  },
  {
   "cell_type": "code",
   "execution_count": 716,
   "metadata": {},
   "outputs": [
    {
     "data": {
      "text/plain": [
       "(209, 30)"
      ]
     },
     "execution_count": 716,
     "metadata": {},
     "output_type": "execute_result"
    }
   ],
   "source": [
    "test.shape"
   ]
  },
  {
   "cell_type": "code",
   "execution_count": 717,
   "metadata": {},
   "outputs": [
    {
     "data": {
      "text/html": [
       "<div>\n",
       "<table border=\"1\" class=\"dataframe\">\n",
       "  <thead>\n",
       "    <tr style=\"text-align: right;\">\n",
       "      <th></th>\n",
       "      <th>school</th>\n",
       "      <th>sex</th>\n",
       "      <th>age</th>\n",
       "      <th>address</th>\n",
       "      <th>Pstatus</th>\n",
       "      <th>Medu</th>\n",
       "      <th>traveltime</th>\n",
       "      <th>studytime</th>\n",
       "      <th>failures</th>\n",
       "      <th>schoolsup</th>\n",
       "      <th>...</th>\n",
       "      <th>absences</th>\n",
       "      <th>G1</th>\n",
       "      <th>G2</th>\n",
       "      <th>G3</th>\n",
       "      <th>Alc</th>\n",
       "      <th>at_home</th>\n",
       "      <th>health</th>\n",
       "      <th>other</th>\n",
       "      <th>services</th>\n",
       "      <th>teacher</th>\n",
       "    </tr>\n",
       "  </thead>\n",
       "  <tbody>\n",
       "    <tr>\n",
       "      <th>860</th>\n",
       "      <td>0</td>\n",
       "      <td>1</td>\n",
       "      <td>18</td>\n",
       "      <td>1</td>\n",
       "      <td>1</td>\n",
       "      <td>1</td>\n",
       "      <td>1</td>\n",
       "      <td>2</td>\n",
       "      <td>1</td>\n",
       "      <td>1</td>\n",
       "      <td>...</td>\n",
       "      <td>9</td>\n",
       "      <td>9</td>\n",
       "      <td>8</td>\n",
       "      <td>8</td>\n",
       "      <td>0</td>\n",
       "      <td>0</td>\n",
       "      <td>0</td>\n",
       "      <td>1</td>\n",
       "      <td>0</td>\n",
       "      <td>0</td>\n",
       "    </tr>\n",
       "    <tr>\n",
       "      <th>269</th>\n",
       "      <td>1</td>\n",
       "      <td>1</td>\n",
       "      <td>18</td>\n",
       "      <td>0</td>\n",
       "      <td>1</td>\n",
       "      <td>2</td>\n",
       "      <td>2</td>\n",
       "      <td>2</td>\n",
       "      <td>0</td>\n",
       "      <td>1</td>\n",
       "      <td>...</td>\n",
       "      <td>0</td>\n",
       "      <td>6</td>\n",
       "      <td>0</td>\n",
       "      <td>0</td>\n",
       "      <td>0</td>\n",
       "      <td>0</td>\n",
       "      <td>0</td>\n",
       "      <td>1</td>\n",
       "      <td>0</td>\n",
       "      <td>0</td>\n",
       "    </tr>\n",
       "    <tr>\n",
       "      <th>581</th>\n",
       "      <td>1</td>\n",
       "      <td>0</td>\n",
       "      <td>17</td>\n",
       "      <td>1</td>\n",
       "      <td>1</td>\n",
       "      <td>4</td>\n",
       "      <td>1</td>\n",
       "      <td>2</td>\n",
       "      <td>0</td>\n",
       "      <td>1</td>\n",
       "      <td>...</td>\n",
       "      <td>0</td>\n",
       "      <td>11</td>\n",
       "      <td>9</td>\n",
       "      <td>10</td>\n",
       "      <td>0</td>\n",
       "      <td>0</td>\n",
       "      <td>0</td>\n",
       "      <td>0</td>\n",
       "      <td>0</td>\n",
       "      <td>1</td>\n",
       "    </tr>\n",
       "    <tr>\n",
       "      <th>775</th>\n",
       "      <td>1</td>\n",
       "      <td>1</td>\n",
       "      <td>17</td>\n",
       "      <td>1</td>\n",
       "      <td>1</td>\n",
       "      <td>4</td>\n",
       "      <td>1</td>\n",
       "      <td>3</td>\n",
       "      <td>0</td>\n",
       "      <td>1</td>\n",
       "      <td>...</td>\n",
       "      <td>0</td>\n",
       "      <td>13</td>\n",
       "      <td>12</td>\n",
       "      <td>13</td>\n",
       "      <td>0</td>\n",
       "      <td>0</td>\n",
       "      <td>0</td>\n",
       "      <td>0</td>\n",
       "      <td>0</td>\n",
       "      <td>1</td>\n",
       "    </tr>\n",
       "    <tr>\n",
       "      <th>669</th>\n",
       "      <td>1</td>\n",
       "      <td>1</td>\n",
       "      <td>17</td>\n",
       "      <td>1</td>\n",
       "      <td>1</td>\n",
       "      <td>1</td>\n",
       "      <td>1</td>\n",
       "      <td>2</td>\n",
       "      <td>0</td>\n",
       "      <td>0</td>\n",
       "      <td>...</td>\n",
       "      <td>10</td>\n",
       "      <td>10</td>\n",
       "      <td>9</td>\n",
       "      <td>10</td>\n",
       "      <td>0</td>\n",
       "      <td>1</td>\n",
       "      <td>0</td>\n",
       "      <td>0</td>\n",
       "      <td>0</td>\n",
       "      <td>0</td>\n",
       "    </tr>\n",
       "  </tbody>\n",
       "</table>\n",
       "<p>5 rows × 30 columns</p>\n",
       "</div>"
      ],
      "text/plain": [
       "    school sex  age address Pstatus  Medu  traveltime  studytime  failures  \\\n",
       "860      0   1   18       1       1     1           1          2         1   \n",
       "269      1   1   18       0       1     2           2          2         0   \n",
       "581      1   0   17       1       1     4           1          2         0   \n",
       "775      1   1   17       1       1     4           1          3         0   \n",
       "669      1   1   17       1       1     1           1          2         0   \n",
       "\n",
       "    schoolsup   ...    absences  G1  G2  G3 Alc at_home health  other  \\\n",
       "860         1   ...           9   9   8   8   0       0      0      1   \n",
       "269         1   ...           0   6   0   0   0       0      0      1   \n",
       "581         1   ...           0  11   9  10   0       0      0      0   \n",
       "775         1   ...           0  13  12  13   0       0      0      0   \n",
       "669         0   ...          10  10   9  10   0       1      0      0   \n",
       "\n",
       "     services  teacher  \n",
       "860         0        0  \n",
       "269         0        0  \n",
       "581         0        1  \n",
       "775         0        1  \n",
       "669         0        0  \n",
       "\n",
       "[5 rows x 30 columns]"
      ]
     },
     "execution_count": 717,
     "metadata": {},
     "output_type": "execute_result"
    }
   ],
   "source": [
    "train.head()"
   ]
  },
  {
   "cell_type": "code",
   "execution_count": 718,
   "metadata": {},
   "outputs": [
    {
     "data": {
      "text/html": [
       "<div>\n",
       "<table border=\"1\" class=\"dataframe\">\n",
       "  <thead>\n",
       "    <tr style=\"text-align: right;\">\n",
       "      <th></th>\n",
       "      <th>school</th>\n",
       "      <th>sex</th>\n",
       "      <th>age</th>\n",
       "      <th>address</th>\n",
       "      <th>Pstatus</th>\n",
       "      <th>Medu</th>\n",
       "      <th>traveltime</th>\n",
       "      <th>studytime</th>\n",
       "      <th>failures</th>\n",
       "      <th>schoolsup</th>\n",
       "      <th>...</th>\n",
       "      <th>absences</th>\n",
       "      <th>G1</th>\n",
       "      <th>G2</th>\n",
       "      <th>G3</th>\n",
       "      <th>Alc</th>\n",
       "      <th>at_home</th>\n",
       "      <th>health</th>\n",
       "      <th>other</th>\n",
       "      <th>services</th>\n",
       "      <th>teacher</th>\n",
       "    </tr>\n",
       "  </thead>\n",
       "  <tbody>\n",
       "    <tr>\n",
       "      <th>640</th>\n",
       "      <td>1</td>\n",
       "      <td>0</td>\n",
       "      <td>17</td>\n",
       "      <td>0</td>\n",
       "      <td>1</td>\n",
       "      <td>2</td>\n",
       "      <td>2</td>\n",
       "      <td>2</td>\n",
       "      <td>0</td>\n",
       "      <td>1</td>\n",
       "      <td>...</td>\n",
       "      <td>0</td>\n",
       "      <td>12</td>\n",
       "      <td>13</td>\n",
       "      <td>13</td>\n",
       "      <td>0</td>\n",
       "      <td>0</td>\n",
       "      <td>0</td>\n",
       "      <td>1</td>\n",
       "      <td>0</td>\n",
       "      <td>0</td>\n",
       "    </tr>\n",
       "    <tr>\n",
       "      <th>722</th>\n",
       "      <td>1</td>\n",
       "      <td>1</td>\n",
       "      <td>18</td>\n",
       "      <td>0</td>\n",
       "      <td>1</td>\n",
       "      <td>1</td>\n",
       "      <td>2</td>\n",
       "      <td>4</td>\n",
       "      <td>0</td>\n",
       "      <td>1</td>\n",
       "      <td>...</td>\n",
       "      <td>2</td>\n",
       "      <td>17</td>\n",
       "      <td>17</td>\n",
       "      <td>18</td>\n",
       "      <td>0</td>\n",
       "      <td>1</td>\n",
       "      <td>0</td>\n",
       "      <td>0</td>\n",
       "      <td>0</td>\n",
       "      <td>0</td>\n",
       "    </tr>\n",
       "    <tr>\n",
       "      <th>914</th>\n",
       "      <td>0</td>\n",
       "      <td>0</td>\n",
       "      <td>16</td>\n",
       "      <td>0</td>\n",
       "      <td>1</td>\n",
       "      <td>2</td>\n",
       "      <td>2</td>\n",
       "      <td>2</td>\n",
       "      <td>0</td>\n",
       "      <td>1</td>\n",
       "      <td>...</td>\n",
       "      <td>0</td>\n",
       "      <td>8</td>\n",
       "      <td>7</td>\n",
       "      <td>0</td>\n",
       "      <td>0</td>\n",
       "      <td>0</td>\n",
       "      <td>0</td>\n",
       "      <td>1</td>\n",
       "      <td>0</td>\n",
       "      <td>0</td>\n",
       "    </tr>\n",
       "    <tr>\n",
       "      <th>731</th>\n",
       "      <td>1</td>\n",
       "      <td>0</td>\n",
       "      <td>18</td>\n",
       "      <td>1</td>\n",
       "      <td>1</td>\n",
       "      <td>4</td>\n",
       "      <td>1</td>\n",
       "      <td>2</td>\n",
       "      <td>0</td>\n",
       "      <td>1</td>\n",
       "      <td>...</td>\n",
       "      <td>2</td>\n",
       "      <td>15</td>\n",
       "      <td>16</td>\n",
       "      <td>16</td>\n",
       "      <td>0</td>\n",
       "      <td>0</td>\n",
       "      <td>0</td>\n",
       "      <td>0</td>\n",
       "      <td>0</td>\n",
       "      <td>1</td>\n",
       "    </tr>\n",
       "    <tr>\n",
       "      <th>688</th>\n",
       "      <td>1</td>\n",
       "      <td>1</td>\n",
       "      <td>18</td>\n",
       "      <td>1</td>\n",
       "      <td>1</td>\n",
       "      <td>1</td>\n",
       "      <td>1</td>\n",
       "      <td>3</td>\n",
       "      <td>0</td>\n",
       "      <td>1</td>\n",
       "      <td>...</td>\n",
       "      <td>4</td>\n",
       "      <td>11</td>\n",
       "      <td>12</td>\n",
       "      <td>14</td>\n",
       "      <td>0</td>\n",
       "      <td>0</td>\n",
       "      <td>0</td>\n",
       "      <td>1</td>\n",
       "      <td>0</td>\n",
       "      <td>0</td>\n",
       "    </tr>\n",
       "  </tbody>\n",
       "</table>\n",
       "<p>5 rows × 30 columns</p>\n",
       "</div>"
      ],
      "text/plain": [
       "    school sex  age address Pstatus  Medu  traveltime  studytime  failures  \\\n",
       "640      1   0   17       0       1     2           2          2         0   \n",
       "722      1   1   18       0       1     1           2          4         0   \n",
       "914      0   0   16       0       1     2           2          2         0   \n",
       "731      1   0   18       1       1     4           1          2         0   \n",
       "688      1   1   18       1       1     1           1          3         0   \n",
       "\n",
       "    schoolsup   ...    absences  G1  G2  G3 Alc at_home health  other  \\\n",
       "640         1   ...           0  12  13  13   0       0      0      1   \n",
       "722         1   ...           2  17  17  18   0       1      0      0   \n",
       "914         1   ...           0   8   7   0   0       0      0      1   \n",
       "731         1   ...           2  15  16  16   0       0      0      0   \n",
       "688         1   ...           4  11  12  14   0       0      0      1   \n",
       "\n",
       "     services  teacher  \n",
       "640         0        0  \n",
       "722         0        0  \n",
       "914         0        0  \n",
       "731         0        1  \n",
       "688         0        0  \n",
       "\n",
       "[5 rows x 30 columns]"
      ]
     },
     "execution_count": 718,
     "metadata": {},
     "output_type": "execute_result"
    }
   ],
   "source": [
    "test.head()"
   ]
  },
  {
   "cell_type": "code",
   "execution_count": 719,
   "metadata": {
    "collapsed": true
   },
   "outputs": [],
   "source": [
    "X_train = train.drop(['Alc'], axis=1)\n",
    "X_test = test.drop(['Alc'], axis=1)\n",
    "y_train = train.Alc.values\n",
    "y_test = test.Alc.values"
   ]
  },
  {
   "cell_type": "markdown",
   "metadata": {},
   "source": [
    "# 2 Random Forest"
   ]
  },
  {
   "cell_type": "code",
   "execution_count": 720,
   "metadata": {
    "collapsed": true
   },
   "outputs": [],
   "source": [
    "from sklearn.ensemble import RandomForestClassifier\n",
    "from sklearn.grid_search import GridSearchCV"
   ]
  },
  {
   "cell_type": "code",
   "execution_count": 721,
   "metadata": {},
   "outputs": [
    {
     "name": "stdout",
     "output_type": "stream",
     "text": [
      "0.101796407186 15\n"
     ]
    }
   ],
   "source": [
    "n_estimators_array = [5, 10, 15, 20, 25, 30, 40, 50, 75, 100, 150, 200, 250, 300, 350, 400]\n",
    "rf = RandomForestClassifier(random_state = RANDOM_SEED)\n",
    "grid_rf = GridSearchCV(rf, param_grid={'n_estimators': n_estimators_array}, scoring='accuracy',\n",
    "                    cv=StratifiedKFold(y_train, 5, random_state=RANDOM_SEED))\n",
    "grid_rf.fit(X_train, y_train)\n",
    "\n",
    "best_cv_err = 1 - grid_rf.best_score_\n",
    "best_n_estimators = grid_rf.best_estimator_.n_estimators\n",
    "print (best_cv_err, best_n_estimators)"
   ]
  },
  {
   "cell_type": "code",
   "execution_count": 722,
   "metadata": {},
   "outputs": [
    {
     "data": {
      "text/plain": [
       "RandomForestClassifier(bootstrap=True, class_weight=None, criterion='gini',\n",
       "            max_depth=None, max_features='auto', max_leaf_nodes=None,\n",
       "            min_samples_leaf=1, min_samples_split=2,\n",
       "            min_weight_fraction_leaf=0.0, n_estimators=15, n_jobs=1,\n",
       "            oob_score=False, random_state=None, verbose=0,\n",
       "            warm_start=False)"
      ]
     },
     "execution_count": 722,
     "metadata": {},
     "output_type": "execute_result"
    }
   ],
   "source": [
    "rf = RandomForestClassifier(n_estimators=best_n_estimators, random_state=RANDOM_SEED)\n",
    "rf.fit(X_train, y_train)"
   ]
  },
  {
   "cell_type": "code",
   "execution_count": 723,
   "metadata": {},
   "outputs": [
    {
     "name": "stdout",
     "output_type": "stream",
     "text": [
      "Feature importances:\n",
      "1. 'absences' (0.0826)\n",
      "2. 'age' (0.0742)\n",
      "3. 'G1' (0.0701)\n",
      "4. 'goout' (0.0653)\n",
      "5. 'G3' (0.0597)\n",
      "6. 'freetime' (0.0575)\n",
      "7. 'G2' (0.0520)\n",
      "8. 'sex' (0.0504)\n",
      "9. 'traveltime' (0.0494)\n",
      "10. 'Medu' (0.0447)\n",
      "11. 'health_stud' (0.0438)\n",
      "12. 'studytime' (0.0360)\n",
      "13. 'address' (0.0335)\n",
      "14. 'romantic' (0.0295)\n",
      "15. 'failures' (0.0263)\n",
      "16. 'nursery' (0.0217)\n",
      "17. 'famsup' (0.0216)\n",
      "18. 'activities' (0.0213)\n",
      "19. 'Alc' (0.0194)\n",
      "20. 'other' (0.0186)\n",
      "21. 'paid' (0.0180)\n",
      "22. 'health' (0.0166)\n",
      "23. 'higher' (0.0159)\n",
      "24. 'services' (0.0147)\n",
      "25. 'school' (0.0126)\n",
      "26. 'Pstatus' (0.0124)\n",
      "27. 'internet' (0.0123)\n",
      "28. 'at_home' (0.0117)\n",
      "29. 'schoolsup' (0.0083)\n"
     ]
    }
   ],
   "source": [
    "importances = rf.feature_importances_\n",
    "indices = np.argsort(importances)[::-1]\n",
    "print(\"Feature importances:\")\n",
    "for feature, index in enumerate(indices):\n",
    "    print(\"{:d}. '{:s}' ({:.4f})\".format(feature + 1, train.columns[index], importances[index]))"
   ]
  },
  {
   "cell_type": "code",
   "execution_count": 724,
   "metadata": {},
   "outputs": [
    {
     "data": {
      "image/png": "[encoded data removed]",
      "text/plain": [
       "<matplotlib.figure.Figure at 0x9f77df0>"
      ]
     },
     "metadata": {},
     "output_type": "display_data"
    }
   ],
   "source": [
    "plt.title(\"Feature importances (Random Forest)\")\n",
    "plt.bar(np.arange(len(train.columns) - 1), importances[indices], align='center')\n",
    "plt.xticks(range(len(train.columns) - 1), train.columns[indices[:len(train.columns)]], rotation=90)\n",
    "plt.xlim([-1, len(train.columns)])\n",
    "plt.show()"
   ]
  },
  {
   "cell_type": "code",
   "execution_count": 725,
   "metadata": {},
   "outputs": [
    {
     "data": {
      "text/plain": [
       "[mean: 0.87784, std: 0.00944, params: {'n_estimators': 5},\n",
       " mean: 0.89581, std: 0.00624, params: {'n_estimators': 10},\n",
       " mean: 0.89820, std: 0.00551, params: {'n_estimators': 15},\n",
       " mean: 0.88263, std: 0.01071, params: {'n_estimators': 20},\n",
       " mean: 0.89341, std: 0.00450, params: {'n_estimators': 25},\n",
       " mean: 0.88743, std: 0.00676, params: {'n_estimators': 30},\n",
       " mean: 0.89102, std: 0.00700, params: {'n_estimators': 40},\n",
       " mean: 0.89102, std: 0.00559, params: {'n_estimators': 50},\n",
       " mean: 0.89222, std: 0.00537, params: {'n_estimators': 75},\n",
       " mean: 0.88982, std: 0.00598, params: {'n_estimators': 100},\n",
       " mean: 0.89341, std: 0.01014, params: {'n_estimators': 150},\n",
       " mean: 0.89102, std: 0.00450, params: {'n_estimators': 200},\n",
       " mean: 0.89461, std: 0.00956, params: {'n_estimators': 250},\n",
       " mean: 0.88862, std: 0.00598, params: {'n_estimators': 300},\n",
       " mean: 0.89222, std: 0.00359, params: {'n_estimators': 350},\n",
       " mean: 0.88982, std: 0.00708, params: {'n_estimators': 400}]"
      ]
     },
     "execution_count": 725,
     "metadata": {},
     "output_type": "execute_result"
    }
   ],
   "source": [
    "grid_rf.grid_scores_"
   ]
  },
  {
   "cell_type": "code",
   "execution_count": 726,
   "metadata": {},
   "outputs": [
    {
     "data": {
      "text/plain": [
       "[mean: 0.89820, std: 0.00551, params: {'n_estimators': 15},\n",
       " mean: 0.89581, std: 0.00624, params: {'n_estimators': 10},\n",
       " mean: 0.89461, std: 0.00956, params: {'n_estimators': 250},\n",
       " mean: 0.89341, std: 0.00450, params: {'n_estimators': 25},\n",
       " mean: 0.89341, std: 0.01014, params: {'n_estimators': 150},\n",
       " mean: 0.89222, std: 0.00537, params: {'n_estimators': 75},\n",
       " mean: 0.89222, std: 0.00359, params: {'n_estimators': 350},\n",
       " mean: 0.89102, std: 0.00700, params: {'n_estimators': 40},\n",
       " mean: 0.89102, std: 0.00559, params: {'n_estimators': 50},\n",
       " mean: 0.89102, std: 0.00450, params: {'n_estimators': 200},\n",
       " mean: 0.88982, std: 0.00598, params: {'n_estimators': 100},\n",
       " mean: 0.88982, std: 0.00708, params: {'n_estimators': 400},\n",
       " mean: 0.88862, std: 0.00598, params: {'n_estimators': 300},\n",
       " mean: 0.88743, std: 0.00676, params: {'n_estimators': 30},\n",
       " mean: 0.88263, std: 0.01071, params: {'n_estimators': 20},\n",
       " mean: 0.87784, std: 0.00944, params: {'n_estimators': 5}]"
      ]
     },
     "execution_count": 726,
     "metadata": {},
     "output_type": "execute_result"
    }
   ],
   "source": [
    "sorted(grid_rf.grid_scores_, key=lambda x: x[1], reverse=True)"
   ]
  },
  {
   "cell_type": "code",
   "execution_count": 727,
   "metadata": {},
   "outputs": [
    {
     "name": "stdout",
     "output_type": "stream",
     "text": [
      "15 0.904306220096\n",
      "10 0.913875598086\n",
      "250 0.904306220096\n",
      "25 0.909090909091\n",
      "150 0.904306220096\n"
     ]
    }
   ],
   "source": [
    "best_parameters = [15, 10, 250, 25, 150]\n",
    "for parameter in best_parameters:\n",
    "    rf = RandomForestClassifier(n_estimators=parameter, random_state=RANDOM_SEED)\n",
    "    rf.fit(X_train, y_train)\n",
    "    print(parameter, accuracy_score(y_test, rf.predict(X_test)))"
   ]
  },
  {
   "cell_type": "markdown",
   "metadata": {},
   "source": [
    "# 3 Gradient Boosting"
   ]
  },
  {
   "cell_type": "code",
   "execution_count": 728,
   "metadata": {
    "collapsed": true
   },
   "outputs": [],
   "source": [
    "from sklearn.ensemble import GradientBoostingClassifier"
   ]
  },
  {
   "cell_type": "code",
   "execution_count": 730,
   "metadata": {},
   "outputs": [
    {
     "name": "stdout",
     "output_type": "stream",
     "text": [
      "0.108982035928 35\n"
     ]
    }
   ],
   "source": [
    "n_estimators_array = [20, 25, 30, 35, 40, 45, 50, 55, 60, 65, 70, 75, 80, 85, 90, 95, 100, 110, 120]\n",
    "gbt = GradientBoostingClassifier(random_state = RANDOM_SEED)\n",
    "grid_gbt = GridSearchCV(gbt, param_grid={'n_estimators': n_estimators_array}, scoring='accuracy',\n",
    "                    cv=StratifiedKFold(y_train, 5, random_state=RANDOM_SEED))\n",
    "grid_gbt.fit(X_train, y_train)\n",
    "\n",
    "best_cv_err = 1 - grid_gbt.best_score_\n",
    "best_n_estimators = grid_gbt.best_estimator_.n_estimators\n",
    "print (best_cv_err, best_n_estimators)"
   ]
  },
  {
   "cell_type": "code",
   "execution_count": 731,
   "metadata": {
    "scrolled": true
   },
   "outputs": [
    {
     "data": {
      "text/plain": [
       "GradientBoostingClassifier(init=None, learning_rate=0.1, loss='deviance',\n",
       "              max_depth=3, max_features=None, max_leaf_nodes=None,\n",
       "              min_samples_leaf=1, min_samples_split=2,\n",
       "              min_weight_fraction_leaf=0.0, n_estimators=35,\n",
       "              presort='auto', random_state=None, subsample=1.0, verbose=0,\n",
       "              warm_start=False)"
      ]
     },
     "execution_count": 731,
     "metadata": {},
     "output_type": "execute_result"
    }
   ],
   "source": [
    "gbt = GradientBoostingClassifier(n_estimators=best_n_estimators, random_state=RANDOM_SEED)\n",
    "gbt.fit(X_train, y_train)"
   ]
  },
  {
   "cell_type": "code",
   "execution_count": 732,
   "metadata": {},
   "outputs": [
    {
     "name": "stdout",
     "output_type": "stream",
     "text": [
      "Feature importances:\n",
      "1. 'absences' (0.1778)\n",
      "2. 'G1' (0.1303)\n",
      "3. 'goout' (0.1164)\n",
      "4. 'age' (0.1000)\n",
      "5. 'sex' (0.0951)\n",
      "6. 'studytime' (0.0811)\n",
      "7. 'freetime' (0.0704)\n",
      "8. 'G3' (0.0594)\n",
      "9. 'Medu' (0.0283)\n",
      "10. 'G2' (0.0190)\n",
      "11. 'higher' (0.0181)\n",
      "12. 'school' (0.0155)\n",
      "13. 'traveltime' (0.0125)\n",
      "14. 'health_stud' (0.0109)\n",
      "15. 'schoolsup' (0.0106)\n",
      "16. 'Alc' (0.0103)\n",
      "17. 'failures' (0.0098)\n",
      "18. 'services' (0.0097)\n",
      "19. 'address' (0.0079)\n",
      "20. 'health' (0.0075)\n",
      "21. 'internet' (0.0036)\n",
      "22. 'other' (0.0028)\n",
      "23. 'activities' (0.0014)\n",
      "24. 'nursery' (0.0012)\n",
      "25. 'romantic' (0.0004)\n",
      "26. 'famsup' (0.0000)\n",
      "27. 'paid' (0.0000)\n",
      "28. 'Pstatus' (0.0000)\n",
      "29. 'at_home' (0.0000)\n"
     ]
    }
   ],
   "source": [
    "importances = gbt.feature_importances_\n",
    "indices = np.argsort(importances)[::-1]\n",
    "print(\"Feature importances:\")\n",
    "for feature, index in enumerate(indices):\n",
    "    print(\"{:d}. '{:s}' ({:.4f})\".format(feature + 1, train.columns[index], importances[index]))"
   ]
  },
  {
   "cell_type": "code",
   "execution_count": 733,
   "metadata": {},
   "outputs": [
    {
     "data": {
      "image/png": "[encoded data removed]",
      "text/plain": [
       "<matplotlib.figure.Figure at 0xb629790>"
      ]
     },
     "metadata": {},
     "output_type": "display_data"
    }
   ],
   "source": [
    "plt.title(\"Feature importances (Gradient Boosting)\")\n",
    "plt.bar(np.arange(len(train.columns) - 1), importances[indices], align='center', color='red')\n",
    "plt.xticks(range(len(train.columns) - 1), train.columns[indices[:len(train.columns)]], rotation=90)\n",
    "plt.xlim([-1, len(train.columns)])\n",
    "plt.show()"
   ]
  },
  {
   "cell_type": "markdown",
   "metadata": {},
   "source": [
    "*Видна разница между таблицами и диаграммами важности признаков для Random Forest и Gradient Boosting - в первом случае коэффициенты важности убывают довольно плавно, а во втором случае резко, а также некоторые признаки находятся на других местах. Возможно, разница в плавности возникает из-за того, что, в отличие от случайного леса, деревья при градиентном бустинге строятся итеративно, и алгоритм, выделяя и отбрасывая какие-то признаки на отдельном этапе, \"подстраивается\" далее под их важность (здесь имеется в виду, что если в каком-то дереве часто используется в разбиении вершин некоторый признак, то, в следующих деревьях он, вероятно, тоже будет часто использоваться). В случайном лесе же все деревья строятся параллельно, поэтому дисбаланс в важности признаков сглаживается. Ну а то, что признаки будут стоять в одном алгоритме на одних местах, а в другом алгоритме - на других, очевидно в силу разной структуры алгоритмов.*"
   ]
  },
  {
   "cell_type": "code",
   "execution_count": 734,
   "metadata": {},
   "outputs": [
    {
     "data": {
      "text/plain": [
       "[mean: 0.88982, std: 0.00296, params: {'n_estimators': 20},\n",
       " mean: 0.88743, std: 0.00467, params: {'n_estimators': 25},\n",
       " mean: 0.88982, std: 0.00813, params: {'n_estimators': 30},\n",
       " mean: 0.89102, std: 0.01154, params: {'n_estimators': 35},\n",
       " mean: 0.88982, std: 0.01104, params: {'n_estimators': 40},\n",
       " mean: 0.88982, std: 0.01104, params: {'n_estimators': 45},\n",
       " mean: 0.88743, std: 0.01162, params: {'n_estimators': 50},\n",
       " mean: 0.88743, std: 0.01162, params: {'n_estimators': 55},\n",
       " mean: 0.88623, std: 0.01081, params: {'n_estimators': 60},\n",
       " mean: 0.88623, std: 0.01063, params: {'n_estimators': 65},\n",
       " mean: 0.88503, std: 0.01162, params: {'n_estimators': 70},\n",
       " mean: 0.88503, std: 0.01162, params: {'n_estimators': 75},\n",
       " mean: 0.88383, std: 0.01299, params: {'n_estimators': 80},\n",
       " mean: 0.88383, std: 0.00974, params: {'n_estimators': 85},\n",
       " mean: 0.88383, std: 0.01112, params: {'n_estimators': 90},\n",
       " mean: 0.88503, std: 0.01162, params: {'n_estimators': 95},\n",
       " mean: 0.88263, std: 0.01112, params: {'n_estimators': 100},\n",
       " mean: 0.88383, std: 0.01242, params: {'n_estimators': 110},\n",
       " mean: 0.88263, std: 0.00994, params: {'n_estimators': 120}]"
      ]
     },
     "execution_count": 734,
     "metadata": {},
     "output_type": "execute_result"
    }
   ],
   "source": [
    "grid_gbt.grid_scores_"
   ]
  },
  {
   "cell_type": "code",
   "execution_count": 735,
   "metadata": {},
   "outputs": [
    {
     "data": {
      "text/plain": [
       "[mean: 0.89102, std: 0.01154, params: {'n_estimators': 35},\n",
       " mean: 0.88982, std: 0.00296, params: {'n_estimators': 20},\n",
       " mean: 0.88982, std: 0.00813, params: {'n_estimators': 30},\n",
       " mean: 0.88982, std: 0.01104, params: {'n_estimators': 40},\n",
       " mean: 0.88982, std: 0.01104, params: {'n_estimators': 45},\n",
       " mean: 0.88743, std: 0.00467, params: {'n_estimators': 25},\n",
       " mean: 0.88743, std: 0.01162, params: {'n_estimators': 50},\n",
       " mean: 0.88743, std: 0.01162, params: {'n_estimators': 55},\n",
       " mean: 0.88623, std: 0.01081, params: {'n_estimators': 60},\n",
       " mean: 0.88623, std: 0.01063, params: {'n_estimators': 65},\n",
       " mean: 0.88503, std: 0.01162, params: {'n_estimators': 70},\n",
       " mean: 0.88503, std: 0.01162, params: {'n_estimators': 75},\n",
       " mean: 0.88503, std: 0.01162, params: {'n_estimators': 95},\n",
       " mean: 0.88383, std: 0.01299, params: {'n_estimators': 80},\n",
       " mean: 0.88383, std: 0.00974, params: {'n_estimators': 85},\n",
       " mean: 0.88383, std: 0.01112, params: {'n_estimators': 90},\n",
       " mean: 0.88383, std: 0.01242, params: {'n_estimators': 110},\n",
       " mean: 0.88263, std: 0.01112, params: {'n_estimators': 100},\n",
       " mean: 0.88263, std: 0.00994, params: {'n_estimators': 120}]"
      ]
     },
     "execution_count": 735,
     "metadata": {},
     "output_type": "execute_result"
    }
   ],
   "source": [
    "sorted(grid_gbt.grid_scores_, key=lambda x: x[1], reverse=True)"
   ]
  },
  {
   "cell_type": "code",
   "execution_count": 737,
   "metadata": {},
   "outputs": [
    {
     "name": "stdout",
     "output_type": "stream",
     "text": [
      "35 0.894736842105\n",
      "20 0.894736842105\n",
      "30 0.894736842105\n",
      "40 0.8995215311\n",
      "45 0.8995215311\n"
     ]
    }
   ],
   "source": [
    "best_parameters = [35, 20, 30, 40, 45]\n",
    "for parameter in best_parameters:\n",
    "    gbt = GradientBoostingClassifier(n_estimators=parameter, random_state=RANDOM_SEED)\n",
    "    gbt.fit(X_train, y_train)\n",
    "    print(parameter, accuracy_score(y_test, gbt.predict(X_test)))"
   ]
  },
  {
   "cell_type": "markdown",
   "metadata": {},
   "source": [
    "# 4 AdaBoost"
   ]
  },
  {
   "cell_type": "code",
   "execution_count": 738,
   "metadata": {
    "collapsed": true
   },
   "outputs": [],
   "source": [
    "from sklearn.ensemble import AdaBoostClassifier"
   ]
  },
  {
   "cell_type": "code",
   "execution_count": 740,
   "metadata": {},
   "outputs": [
    {
     "name": "stdout",
     "output_type": "stream",
     "text": [
      "0.119760479042 40\n"
     ]
    }
   ],
   "source": [
    "n_estimators_array = [20, 25, 30, 35, 40, 45, 50, 55, 60, 65, 70, 75, 80, 85, 90, 95, 100, 110, 120]\n",
    "ada = AdaBoostClassifier(random_state = RANDOM_SEED)\n",
    "grid_ada = GridSearchCV(ada, param_grid={'n_estimators': n_estimators_array}, scoring='accuracy',\n",
    "                    cv=StratifiedKFold(y_train, 5, random_state=RANDOM_SEED))\n",
    "grid_ada.fit(X_train, y_train)\n",
    "\n",
    "best_cv_err = 1 - grid_ada.best_score_\n",
    "best_n_estimators = grid_ada.best_estimator_.n_estimators\n",
    "print (best_cv_err, best_n_estimators)"
   ]
  },
  {
   "cell_type": "code",
   "execution_count": 741,
   "metadata": {},
   "outputs": [
    {
     "data": {
      "text/plain": [
       "[mean: 0.87904, std: 0.00714, params: {'n_estimators': 20},\n",
       " mean: 0.87665, std: 0.01120, params: {'n_estimators': 25},\n",
       " mean: 0.87665, std: 0.00898, params: {'n_estimators': 30},\n",
       " mean: 0.87784, std: 0.01398, params: {'n_estimators': 35},\n",
       " mean: 0.88024, std: 0.01265, params: {'n_estimators': 40},\n",
       " mean: 0.87665, std: 0.01346, params: {'n_estimators': 45},\n",
       " mean: 0.87904, std: 0.01410, params: {'n_estimators': 50},\n",
       " mean: 0.87784, std: 0.01112, params: {'n_estimators': 55},\n",
       " mean: 0.87186, std: 0.01082, params: {'n_estimators': 60},\n",
       " mean: 0.87305, std: 0.00921, params: {'n_estimators': 65},\n",
       " mean: 0.87066, std: 0.01234, params: {'n_estimators': 70},\n",
       " mean: 0.87186, std: 0.01002, params: {'n_estimators': 75},\n",
       " mean: 0.86826, std: 0.01329, params: {'n_estimators': 80},\n",
       " mean: 0.86826, std: 0.01024, params: {'n_estimators': 85},\n",
       " mean: 0.86587, std: 0.01121, params: {'n_estimators': 90},\n",
       " mean: 0.86347, std: 0.00960, params: {'n_estimators': 95},\n",
       " mean: 0.86347, std: 0.00960, params: {'n_estimators': 100},\n",
       " mean: 0.86467, std: 0.00898, params: {'n_estimators': 110},\n",
       " mean: 0.86228, std: 0.00993, params: {'n_estimators': 120}]"
      ]
     },
     "execution_count": 741,
     "metadata": {},
     "output_type": "execute_result"
    }
   ],
   "source": [
    "grid_ada.grid_scores_"
   ]
  },
  {
   "cell_type": "code",
   "execution_count": 742,
   "metadata": {},
   "outputs": [
    {
     "data": {
      "text/plain": [
       "[mean: 0.88024, std: 0.01265, params: {'n_estimators': 40},\n",
       " mean: 0.87904, std: 0.00714, params: {'n_estimators': 20},\n",
       " mean: 0.87904, std: 0.01410, params: {'n_estimators': 50},\n",
       " mean: 0.87784, std: 0.01398, params: {'n_estimators': 35},\n",
       " mean: 0.87784, std: 0.01112, params: {'n_estimators': 55},\n",
       " mean: 0.87665, std: 0.01120, params: {'n_estimators': 25},\n",
       " mean: 0.87665, std: 0.00898, params: {'n_estimators': 30},\n",
       " mean: 0.87665, std: 0.01346, params: {'n_estimators': 45},\n",
       " mean: 0.87305, std: 0.00921, params: {'n_estimators': 65},\n",
       " mean: 0.87186, std: 0.01082, params: {'n_estimators': 60},\n",
       " mean: 0.87186, std: 0.01002, params: {'n_estimators': 75},\n",
       " mean: 0.87066, std: 0.01234, params: {'n_estimators': 70},\n",
       " mean: 0.86826, std: 0.01329, params: {'n_estimators': 80},\n",
       " mean: 0.86826, std: 0.01024, params: {'n_estimators': 85},\n",
       " mean: 0.86587, std: 0.01121, params: {'n_estimators': 90},\n",
       " mean: 0.86467, std: 0.00898, params: {'n_estimators': 110},\n",
       " mean: 0.86347, std: 0.00960, params: {'n_estimators': 95},\n",
       " mean: 0.86347, std: 0.00960, params: {'n_estimators': 100},\n",
       " mean: 0.86228, std: 0.00993, params: {'n_estimators': 120}]"
      ]
     },
     "execution_count": 742,
     "metadata": {},
     "output_type": "execute_result"
    }
   ],
   "source": [
    "sorted(grid_ada.grid_scores_, key=lambda x: x[1], reverse=True)"
   ]
  },
  {
   "cell_type": "code",
   "execution_count": 743,
   "metadata": {},
   "outputs": [
    {
     "name": "stdout",
     "output_type": "stream",
     "text": [
      "40 0.913875598086\n",
      "20 0.904306220096\n",
      "50 0.913875598086\n",
      "35 0.913875598086\n",
      "55 0.909090909091\n"
     ]
    }
   ],
   "source": [
    "best_parameters = [40, 20, 50, 35, 55]\n",
    "for parameter in best_parameters:\n",
    "    ada = AdaBoostClassifier(n_estimators=parameter, random_state=RANDOM_SEED)\n",
    "    ada.fit(X_train, y_train)\n",
    "    print(parameter, accuracy_score(y_test, ada.predict(X_test)))"
   ]
  },
  {
   "cell_type": "markdown",
   "metadata": {},
   "source": [
    "# 5 Какой из классификаторов оказался лучше?"
   ]
  },
  {
   "cell_type": "markdown",
   "metadata": {},
   "source": [
    "Видно, что лучше всех рассмотренных классификаторов с задачей справился AdaBoost с параметром n_estimators=40: accuracy на тестовой выборке составило 0.914."
   ]
  }
 ],
 "metadata": {
  "anaconda-cloud": {},
  "kernelspec": {
   "display_name": "Python 3",
   "language": "python",
   "name": "python3"
  },
  "language_info": {
   "codemirror_mode": {
    "name": "ipython",
    "version": 3
   },
   "file_extension": ".py",
   "mimetype": "text/x-python",
   "name": "python",
   "nbconvert_exporter": "python",
   "pygments_lexer": "ipython3",
   "version": "3.7.3"
  },
  "nav_menu": {},
  "toc": {
   "navigate_menu": true,
   "number_sections": false,
   "sideBar": true,
   "threshold": 6,
   "toc_cell": false,
   "toc_section_display": "block",
   "toc_window_display": true
  }
 },
 "nbformat": 4,
 "nbformat_minor": 1
}
